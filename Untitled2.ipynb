{
 "cells": [
  {
   "cell_type": "code",
   "execution_count": 1,
   "metadata": {},
   "outputs": [],
   "source": [
    "import botocore\n",
    "import boto3\n",
    "from boto3.session import Session\n",
    "from concurrent.futures import ThreadPoolExecutor, ProcessPoolExecutor\n",
    "import threading\n",
    "from concurrent.futures import wait\n",
    "import msgpack  # type: ignore\n",
    "from monty.dev import deprecated\n",
    "from monty.msgpack import default as monty_default\n",
    "from monty.msgpack import object_hook as monty_object_hook\n",
    "import threading\n",
    "import multiprocessing\n",
    "from multiprocessing.pool import ThreadPool\n",
    "import numpy as np\n",
    "\n",
    "import uuid\n",
    "from concurrent.futures import ThreadPoolExecutor"
   ]
  },
  {
   "cell_type": "code",
   "execution_count": 16,
   "metadata": {},
   "outputs": [],
   "source": []
  },
  {
   "cell_type": "code",
   "execution_count": 2,
   "metadata": {},
   "outputs": [],
   "source": [
    "session = Session(profile_name=\"mp_shreyas\")\n",
    "resource = session.resource(\"s3\", endpoint_url=\"https://minio.materialsproject.org\", verify=False)\n",
    "s3_bucket = resource.Bucket(\"shreyas\")"
   ]
  },
  {
   "cell_type": "code",
   "execution_count": 3,
   "metadata": {},
   "outputs": [
    {
     "name": "stderr",
     "output_type": "stream",
     "text": [
      "/Users/shreyas/anaconda3/envs/minio/lib/python3.8/site-packages/urllib3/connectionpool.py:979: InsecureRequestWarning: Unverified HTTPS request is being made to host 'minio.materialsproject.org'. Adding certificate verification is strongly advised. See: https://urllib3.readthedocs.io/en/latest/advanced-usage.html#ssl-warnings\n",
      "  warnings.warn(\n",
      "/Users/shreyas/anaconda3/envs/minio/lib/python3.8/site-packages/urllib3/connectionpool.py:979: InsecureRequestWarning: Unverified HTTPS request is being made to host 'minio.materialsproject.org'. Adding certificate verification is strongly advised. See: https://urllib3.readthedocs.io/en/latest/advanced-usage.html#ssl-warnings\n",
      "  warnings.warn(\n"
     ]
    },
    {
     "data": {
      "text/plain": [
       "[{'ResponseMetadata': {'RequestId': '1617E1F64E212FD6',\n",
       "   'HostId': '',\n",
       "   'HTTPStatusCode': 200,\n",
       "   'HTTPHeaders': {'accept-ranges': 'bytes',\n",
       "    'content-length': '8746',\n",
       "    'content-security-policy': 'block-all-mixed-content',\n",
       "    'content-type': 'application/xml',\n",
       "    'server': 'MinIO/RELEASE.2020-03-14T02-21-58Z',\n",
       "    'vary': 'Origin',\n",
       "    'x-amz-request-id': '1617E1F64E212FD6',\n",
       "    'x-xss-protection': '1; mode=block',\n",
       "    'date': 'Fri, 12 Jun 2020 19:17:25 GMT',\n",
       "    'strict-transport-security': 'max-age=31536000'},\n",
       "   'RetryAttempts': 0},\n",
       "  'Deleted': [{'Key': 'test/0'},\n",
       "   {'Key': 'test/021c8269-856a-4a67-8044-d1944cf93a0e'},\n",
       "   {'Key': 'test/0a88ab38-5cb7-46a9-9912-4a78e288eaf2'},\n",
       "   {'Key': 'test/0d58b4a8-8f5b-4164-b581-7c238b4e83d9'},\n",
       "   {'Key': 'test/1'},\n",
       "   {'Key': 'test/10'},\n",
       "   {'Key': 'test/1031ba8f-4c35-4d7a-a918-7e0900eb3dc1'},\n",
       "   {'Key': 'test/106f5948-5b16-4349-932d-9f327710b032'},\n",
       "   {'Key': 'test/11'},\n",
       "   {'Key': 'test/12'},\n",
       "   {'Key': 'test/13'},\n",
       "   {'Key': 'test/13040b67-e5b9-4e63-8ae1-cc5f04f69181'},\n",
       "   {'Key': 'test/14'},\n",
       "   {'Key': 'test/15'},\n",
       "   {'Key': 'test/16'},\n",
       "   {'Key': 'test/17'},\n",
       "   {'Key': 'test/18'},\n",
       "   {'Key': 'test/19'},\n",
       "   {'Key': 'test/2'},\n",
       "   {'Key': 'test/20'},\n",
       "   {'Key': 'test/204370df-eaae-4b67-af18-b315e951adc7'},\n",
       "   {'Key': 'test/2063233a-f8fa-466a-802f-c4b623357de1'},\n",
       "   {'Key': 'test/20c656d1-3551-4a6c-a7e2-3b4010f73452'},\n",
       "   {'Key': 'test/21'},\n",
       "   {'Key': 'test/21f15078-6209-408a-b01c-2eb8201d22df'},\n",
       "   {'Key': 'test/21f73090-1465-46b2-bbf9-acfe8bd78428'},\n",
       "   {'Key': 'test/22'},\n",
       "   {'Key': 'test/23'},\n",
       "   {'Key': 'test/2394059e-85cc-492d-bc3e-4f5b05b7f807'},\n",
       "   {'Key': 'test/24'},\n",
       "   {'Key': 'test/25'},\n",
       "   {'Key': 'test/2561937c-7516-476b-a410-6882dac856d4'},\n",
       "   {'Key': 'test/26'},\n",
       "   {'Key': 'test/27'},\n",
       "   {'Key': 'test/28'},\n",
       "   {'Key': 'test/29'},\n",
       "   {'Key': 'test/2b577ebd-9d58-4f82-9dba-6d7941104bc0'},\n",
       "   {'Key': 'test/3'},\n",
       "   {'Key': 'test/30'},\n",
       "   {'Key': 'test/30c22560-57fe-42a6-ad3a-a414561cee94'},\n",
       "   {'Key': 'test/31'},\n",
       "   {'Key': 'test/32'},\n",
       "   {'Key': 'test/33'},\n",
       "   {'Key': 'test/33d62367-31f6-4727-8042-fc90af4f8c4e'},\n",
       "   {'Key': 'test/34'},\n",
       "   {'Key': 'test/35'},\n",
       "   {'Key': 'test/36'},\n",
       "   {'Key': 'test/36b28d18-c040-4a88-b6c8-862f0f84fe31'},\n",
       "   {'Key': 'test/36b5eb41-882e-4a6e-9817-193c920ace3d'},\n",
       "   {'Key': 'test/37'},\n",
       "   {'Key': 'test/38'},\n",
       "   {'Key': 'test/39'},\n",
       "   {'Key': 'test/3a382dc4-6f8a-46e4-a151-36f03084c44b'},\n",
       "   {'Key': 'test/3b834139-6f57-4c42-a862-c3c218fdafb0'},\n",
       "   {'Key': 'test/3d954ffc-e8c0-420d-9e16-a79e27e7a733'},\n",
       "   {'Key': 'test/4'},\n",
       "   {'Key': 'test/40'},\n",
       "   {'Key': 'test/41'},\n",
       "   {'Key': 'test/419f593f-2102-4573-8b9a-ca730dfb0f23'},\n",
       "   {'Key': 'test/42'},\n",
       "   {'Key': 'test/43'},\n",
       "   {'Key': 'test/43f8ab76-6604-4041-8fca-824999d0fe82'},\n",
       "   {'Key': 'test/43fab1ff-6996-4ba7-8eec-f97cee04c5c2'},\n",
       "   {'Key': 'test/44'},\n",
       "   {'Key': 'test/45'},\n",
       "   {'Key': 'test/450ea1f6-0f7b-46c0-bf7b-7c360bf67bd3'},\n",
       "   {'Key': 'test/455e2531-074a-49dd-a408-8f928ea7bb71'},\n",
       "   {'Key': 'test/46'},\n",
       "   {'Key': 'test/47'},\n",
       "   {'Key': 'test/472767c6-5143-4ced-bed1-c0b7ba00140d'},\n",
       "   {'Key': 'test/472cca36-b811-4c8e-9605-24f7bb5e6a92'},\n",
       "   {'Key': 'test/4755617c-3b80-45db-a170-ca0f68569976'},\n",
       "   {'Key': 'test/48'},\n",
       "   {'Key': 'test/49'},\n",
       "   {'Key': 'test/49f5f73e-f85f-4a3f-b0a9-7e6d80efe1e8'},\n",
       "   {'Key': 'test/4b1ac7ce-6570-4cfb-b4e6-54793212ee2e'},\n",
       "   {'Key': 'test/4f679586-d267-4ebe-a29c-6340b42807b4'},\n",
       "   {'Key': 'test/5'},\n",
       "   {'Key': 'test/50'},\n",
       "   {'Key': 'test/51'},\n",
       "   {'Key': 'test/51b11fae-4888-48c7-94e7-7a0bd15a8e11'},\n",
       "   {'Key': 'test/52'},\n",
       "   {'Key': 'test/52b95adf-84e2-4457-a8ec-1ee413939601'},\n",
       "   {'Key': 'test/53'},\n",
       "   {'Key': 'test/54'},\n",
       "   {'Key': 'test/54651fe0-dc0f-4b43-a041-5bdd912abd2d'},\n",
       "   {'Key': 'test/55'},\n",
       "   {'Key': 'test/56'},\n",
       "   {'Key': 'test/57'},\n",
       "   {'Key': 'test/58'},\n",
       "   {'Key': 'test/59'},\n",
       "   {'Key': 'test/5b6bfac5-488f-4cc9-b7c8-71674fb6d3ad'},\n",
       "   {'Key': 'test/5b6f9b19-dd2a-493c-8472-47a144024ffc'},\n",
       "   {'Key': 'test/5bd67c75-5ff3-4483-b059-db0a69a566b0'},\n",
       "   {'Key': 'test/6'},\n",
       "   {'Key': 'test/60'},\n",
       "   {'Key': 'test/60ef1b00-2f95-4f94-a394-6b570659f7aa'},\n",
       "   {'Key': 'test/61'},\n",
       "   {'Key': 'test/61405691-267d-490f-a1b6-6a2fde8d2186'},\n",
       "   {'Key': 'test/62'},\n",
       "   {'Key': 'test/63'},\n",
       "   {'Key': 'test/64'},\n",
       "   {'Key': 'test/65'},\n",
       "   {'Key': 'test/66'},\n",
       "   {'Key': 'test/664d691d-789d-4845-a826-7accc4795dd5'},\n",
       "   {'Key': 'test/67'},\n",
       "   {'Key': 'test/68'},\n",
       "   {'Key': 'test/69'},\n",
       "   {'Key': 'test/6df584a7-4931-44a0-a51e-ca6619406659'},\n",
       "   {'Key': 'test/6e342ee4-41fa-465b-83a8-b53d08644846'},\n",
       "   {'Key': 'test/6f7e92e8-a457-4aaa-9ca0-c73c288e16aa'},\n",
       "   {'Key': 'test/7'},\n",
       "   {'Key': 'test/70'},\n",
       "   {'Key': 'test/71'},\n",
       "   {'Key': 'test/72'},\n",
       "   {'Key': 'test/73'},\n",
       "   {'Key': 'test/74'},\n",
       "   {'Key': 'test/74dbe85c-3a65-4533-85c9-111148e1adf7'},\n",
       "   {'Key': 'test/75'},\n",
       "   {'Key': 'test/76'},\n",
       "   {'Key': 'test/77'},\n",
       "   {'Key': 'test/78'},\n",
       "   {'Key': 'test/79556a97-b185-4467-8259-1e38f5e3241e'},\n",
       "   {'Key': 'test/7a406faa-d41c-472c-a703-461961c11a12'},\n",
       "   {'Key': 'test/7ada5440-d9eb-40f4-be9d-7d54afa541ab'},\n",
       "   {'Key': 'test/7d2164ae-6fb7-4e19-a9fc-295804c140e3'},\n",
       "   {'Key': 'test/7f0e7209-b14b-4e4e-867d-d02d45f38e55'},\n",
       "   {'Key': 'test/8'},\n",
       "   {'Key': 'test/81'},\n",
       "   {'Key': 'test/8460af93-ee71-40c4-9707-51b1338745f5'},\n",
       "   {'Key': 'test/878838c9-8cd2-4721-9b4d-e13a6dedf582'},\n",
       "   {'Key': 'test/8fd2614e-8334-4375-b8f5-e75305f615ec'},\n",
       "   {'Key': 'test/9'},\n",
       "   {'Key': 'test/93ca32f5-d73a-4d0b-a2dd-167c7d95096d'},\n",
       "   {'Key': 'test/9758ff15-6265-47ec-b6ad-015db77a6b9f'},\n",
       "   {'Key': 'test/97810787-bdcc-494f-8c02-61a905d94025'},\n",
       "   {'Key': 'test/9c510918-a93f-481b-a142-d47eb7f6ebbe'},\n",
       "   {'Key': 'test/9eee670a-fe00-43bb-b99e-b992d928d3d8'},\n",
       "   {'Key': 'test/9f702b37-87f9-49ef-b4aa-b1f16fcbf296'},\n",
       "   {'Key': 'test/a0e5edd9-3ed5-4413-9cb5-a8cdad583333'},\n",
       "   {'Key': 'test/a2aa8a8b-d0b2-4f1c-981a-cc3e9e02c985'},\n",
       "   {'Key': 'test/a3752ff9-00b6-4063-a314-172d6168bb5b'},\n",
       "   {'Key': 'test/a7ffb937-2b36-4fcd-aeca-d406b3e355b1'},\n",
       "   {'Key': 'test/b25886df-c28e-4233-a898-82eff4a888d9'},\n",
       "   {'Key': 'test/b50e6a25-c9de-49fa-89e7-c5609afa8a46'},\n",
       "   {'Key': 'test/b8d16a93-384c-4b8f-b0c4-2b058a0135b6'},\n",
       "   {'Key': 'test/c443e5ab-7a4b-4f9c-ba6c-041c0d4553fe'},\n",
       "   {'Key': 'test/c47cd357-6527-4bba-92f9-e21f5ce0bdbb'},\n",
       "   {'Key': 'test/c7f27fbc-7a5d-425f-ae86-32f4464cc4ca'},\n",
       "   {'Key': 'test/ca19b834-27d6-4aec-a679-a0d498d2cb83'},\n",
       "   {'Key': 'test/cfda915e-f674-44c2-b5a8-61da6bce6024'},\n",
       "   {'Key': 'test/d0f40dc2-25dd-46f1-a084-d96f53fc2194'},\n",
       "   {'Key': 'test/d1adef82-82f1-424d-9785-fd8ce8935eca'},\n",
       "   {'Key': 'test/dccc87a5-07b4-4813-a9bb-0fe44ec7acc3'},\n",
       "   {'Key': 'test/e06a2acb-574d-4475-a7af-803656a342c3'},\n",
       "   {'Key': 'test/e1af7e29-20af-4357-a776-86d9d96b5195'},\n",
       "   {'Key': 'test/e24999c7-56c1-4afe-8838-5774e799ad69'},\n",
       "   {'Key': 'test/e910f18f-4869-4c6e-8049-046f540b9c13'},\n",
       "   {'Key': 'test/f47758bd-d50d-4151-8c6c-c5d852ec8fae'},\n",
       "   {'Key': 'test/ff8b53f5-e566-44b8-9528-36f8ddcef57a'}]}]"
      ]
     },
     "execution_count": 3,
     "metadata": {},
     "output_type": "execute_result"
    }
   ],
   "source": [
    "\n",
    "s3_bucket.objects.all().delete()"
   ]
  },
  {
   "cell_type": "code",
   "execution_count": 4,
   "metadata": {},
   "outputs": [],
   "source": [
    "data = np.random.rand(100,100,100)\n",
    "data = msgpack.packb(data, default=monty_default)"
   ]
  },
  {
   "cell_type": "code",
   "execution_count": 5,
   "metadata": {},
   "outputs": [
    {
     "name": "stderr",
     "output_type": "stream",
     "text": [
      "/Users/shreyas/anaconda3/envs/minio/lib/python3.8/site-packages/urllib3/connectionpool.py:979: InsecureRequestWarning: Unverified HTTPS request is being made to host 'minio.materialsproject.org'. Adding certificate verification is strongly advised. See: https://urllib3.readthedocs.io/en/latest/advanced-usage.html#ssl-warnings\n",
      "  warnings.warn(\n"
     ]
    },
    {
     "data": {
      "text/plain": [
       "s3.Object(bucket_name='shreyas', key='test/1')"
      ]
     },
     "execution_count": 5,
     "metadata": {},
     "output_type": "execute_result"
    }
   ],
   "source": [
    "s3_bucket.put_object(Key=\"test/1\", Body=data)   "
   ]
  },
  {
   "cell_type": "code",
   "execution_count": 13,
   "metadata": {},
   "outputs": [],
   "source": [
    "class MyPut(threading.Thread):\n",
    "    def run(self):\n",
    "        # Here we create a new session per thread\n",
    "        session = Session(profile_name=\"mp_shreyas\")\n",
    "        \n",
    "        # Next, we create a resource client using our thread's session object\n",
    "        resource = session.resource(\"s3\", endpoint_url=\"https://minio.materialsproject.org\", verify=False)\n",
    "        s3_bucket = resource.Bucket(\"shreyas\")\n",
    "        \n",
    "        for i in range(10):\n",
    "            key = uuid.uuid4()\n",
    "            s3_bucket.put_object(Key=f\"test/{key}\", Body=data)   \n",
    "        \n"
   ]
  },
  {
   "cell_type": "code",
   "execution_count": 14,
   "metadata": {},
   "outputs": [
    {
     "name": "stderr",
     "output_type": "stream",
     "text": [
      "/Users/shreyas/anaconda3/envs/minio/lib/python3.8/site-packages/urllib3/connectionpool.py:979: InsecureRequestWarning: Unverified HTTPS request is being made to host 'minio.materialsproject.org'. Adding certificate verification is strongly advised. See: https://urllib3.readthedocs.io/en/latest/advanced-usage.html#ssl-warnings\n",
      "  warnings.warn(\n",
      "/Users/shreyas/anaconda3/envs/minio/lib/python3.8/site-packages/urllib3/connectionpool.py:979: InsecureRequestWarning: Unverified HTTPS request is being made to host 'minio.materialsproject.org'. Adding certificate verification is strongly advised. See: https://urllib3.readthedocs.io/en/latest/advanced-usage.html#ssl-warnings\n",
      "  warnings.warn(\n",
      "/Users/shreyas/anaconda3/envs/minio/lib/python3.8/site-packages/urllib3/connectionpool.py:979: InsecureRequestWarning: Unverified HTTPS request is being made to host 'minio.materialsproject.org'. Adding certificate verification is strongly advised. See: https://urllib3.readthedocs.io/en/latest/advanced-usage.html#ssl-warnings\n",
      "  warnings.warn(\n",
      "/Users/shreyas/anaconda3/envs/minio/lib/python3.8/site-packages/urllib3/connectionpool.py:979: InsecureRequestWarning: Unverified HTTPS request is being made to host 'minio.materialsproject.org'. Adding certificate verification is strongly advised. See: https://urllib3.readthedocs.io/en/latest/advanced-usage.html#ssl-warnings\n",
      "  warnings.warn(\n",
      "/Users/shreyas/anaconda3/envs/minio/lib/python3.8/site-packages/urllib3/connectionpool.py:979: InsecureRequestWarning: Unverified HTTPS request is being made to host 'minio.materialsproject.org'. Adding certificate verification is strongly advised. See: https://urllib3.readthedocs.io/en/latest/advanced-usage.html#ssl-warnings\n",
      "  warnings.warn(\n",
      "/Users/shreyas/anaconda3/envs/minio/lib/python3.8/site-packages/urllib3/connectionpool.py:979: InsecureRequestWarning: Unverified HTTPS request is being made to host 'minio.materialsproject.org'. Adding certificate verification is strongly advised. See: https://urllib3.readthedocs.io/en/latest/advanced-usage.html#ssl-warnings\n",
      "  warnings.warn(\n",
      "/Users/shreyas/anaconda3/envs/minio/lib/python3.8/site-packages/urllib3/connectionpool.py:979: InsecureRequestWarning: Unverified HTTPS request is being made to host 'minio.materialsproject.org'. Adding certificate verification is strongly advised. See: https://urllib3.readthedocs.io/en/latest/advanced-usage.html#ssl-warnings\n",
      "  warnings.warn(\n",
      "/Users/shreyas/anaconda3/envs/minio/lib/python3.8/site-packages/urllib3/connectionpool.py:979: InsecureRequestWarning: Unverified HTTPS request is being made to host 'minio.materialsproject.org'. Adding certificate verification is strongly advised. See: https://urllib3.readthedocs.io/en/latest/advanced-usage.html#ssl-warnings\n",
      "  warnings.warn(\n",
      "/Users/shreyas/anaconda3/envs/minio/lib/python3.8/site-packages/urllib3/connectionpool.py:979: InsecureRequestWarning: Unverified HTTPS request is being made to host 'minio.materialsproject.org'. Adding certificate verification is strongly advised. See: https://urllib3.readthedocs.io/en/latest/advanced-usage.html#ssl-warnings\n",
      "  warnings.warn(\n",
      "/Users/shreyas/anaconda3/envs/minio/lib/python3.8/site-packages/urllib3/connectionpool.py:979: InsecureRequestWarning: Unverified HTTPS request is being made to host 'minio.materialsproject.org'. Adding certificate verification is strongly advised. See: https://urllib3.readthedocs.io/en/latest/advanced-usage.html#ssl-warnings\n",
      "  warnings.warn(\n",
      "/Users/shreyas/anaconda3/envs/minio/lib/python3.8/site-packages/urllib3/connectionpool.py:979: InsecureRequestWarning: Unverified HTTPS request is being made to host 'minio.materialsproject.org'. Adding certificate verification is strongly advised. See: https://urllib3.readthedocs.io/en/latest/advanced-usage.html#ssl-warnings\n",
      "  warnings.warn(\n",
      "/Users/shreyas/anaconda3/envs/minio/lib/python3.8/site-packages/urllib3/connectionpool.py:979: InsecureRequestWarning: Unverified HTTPS request is being made to host 'minio.materialsproject.org'. Adding certificate verification is strongly advised. See: https://urllib3.readthedocs.io/en/latest/advanced-usage.html#ssl-warnings\n",
      "  warnings.warn(\n",
      "/Users/shreyas/anaconda3/envs/minio/lib/python3.8/site-packages/urllib3/connectionpool.py:979: InsecureRequestWarning: Unverified HTTPS request is being made to host 'minio.materialsproject.org'. Adding certificate verification is strongly advised. See: https://urllib3.readthedocs.io/en/latest/advanced-usage.html#ssl-warnings\n",
      "  warnings.warn(\n",
      "/Users/shreyas/anaconda3/envs/minio/lib/python3.8/site-packages/urllib3/connectionpool.py:979: InsecureRequestWarning: Unverified HTTPS request is being made to host 'minio.materialsproject.org'. Adding certificate verification is strongly advised. See: https://urllib3.readthedocs.io/en/latest/advanced-usage.html#ssl-warnings\n",
      "  warnings.warn(\n",
      "/Users/shreyas/anaconda3/envs/minio/lib/python3.8/site-packages/urllib3/connectionpool.py:979: InsecureRequestWarning: Unverified HTTPS request is being made to host 'minio.materialsproject.org'. Adding certificate verification is strongly advised. See: https://urllib3.readthedocs.io/en/latest/advanced-usage.html#ssl-warnings\n",
      "  warnings.warn(\n",
      "/Users/shreyas/anaconda3/envs/minio/lib/python3.8/site-packages/urllib3/connectionpool.py:979: InsecureRequestWarning: Unverified HTTPS request is being made to host 'minio.materialsproject.org'. Adding certificate verification is strongly advised. See: https://urllib3.readthedocs.io/en/latest/advanced-usage.html#ssl-warnings\n",
      "  warnings.warn(\n",
      "/Users/shreyas/anaconda3/envs/minio/lib/python3.8/site-packages/urllib3/connectionpool.py:979: InsecureRequestWarning: Unverified HTTPS request is being made to host 'minio.materialsproject.org'. Adding certificate verification is strongly advised. See: https://urllib3.readthedocs.io/en/latest/advanced-usage.html#ssl-warnings\n",
      "  warnings.warn(\n",
      "/Users/shreyas/anaconda3/envs/minio/lib/python3.8/site-packages/urllib3/connectionpool.py:979: InsecureRequestWarning: Unverified HTTPS request is being made to host 'minio.materialsproject.org'. Adding certificate verification is strongly advised. See: https://urllib3.readthedocs.io/en/latest/advanced-usage.html#ssl-warnings\n",
      "  warnings.warn(\n",
      "/Users/shreyas/anaconda3/envs/minio/lib/python3.8/site-packages/urllib3/connectionpool.py:979: InsecureRequestWarning: Unverified HTTPS request is being made to host 'minio.materialsproject.org'. Adding certificate verification is strongly advised. See: https://urllib3.readthedocs.io/en/latest/advanced-usage.html#ssl-warnings\n",
      "  warnings.warn(\n",
      "/Users/shreyas/anaconda3/envs/minio/lib/python3.8/site-packages/urllib3/connectionpool.py:979: InsecureRequestWarning: Unverified HTTPS request is being made to host 'minio.materialsproject.org'. Adding certificate verification is strongly advised. See: https://urllib3.readthedocs.io/en/latest/advanced-usage.html#ssl-warnings\n",
      "  warnings.warn(\n",
      "/Users/shreyas/anaconda3/envs/minio/lib/python3.8/site-packages/urllib3/connectionpool.py:979: InsecureRequestWarning: Unverified HTTPS request is being made to host 'minio.materialsproject.org'. Adding certificate verification is strongly advised. See: https://urllib3.readthedocs.io/en/latest/advanced-usage.html#ssl-warnings\n",
      "  warnings.warn(\n",
      "/Users/shreyas/anaconda3/envs/minio/lib/python3.8/site-packages/urllib3/connectionpool.py:979: InsecureRequestWarning: Unverified HTTPS request is being made to host 'minio.materialsproject.org'. Adding certificate verification is strongly advised. See: https://urllib3.readthedocs.io/en/latest/advanced-usage.html#ssl-warnings\n",
      "  warnings.warn(\n",
      "/Users/shreyas/anaconda3/envs/minio/lib/python3.8/site-packages/urllib3/connectionpool.py:979: InsecureRequestWarning: Unverified HTTPS request is being made to host 'minio.materialsproject.org'. Adding certificate verification is strongly advised. See: https://urllib3.readthedocs.io/en/latest/advanced-usage.html#ssl-warnings\n",
      "  warnings.warn(\n",
      "/Users/shreyas/anaconda3/envs/minio/lib/python3.8/site-packages/urllib3/connectionpool.py:979: InsecureRequestWarning: Unverified HTTPS request is being made to host 'minio.materialsproject.org'. Adding certificate verification is strongly advised. See: https://urllib3.readthedocs.io/en/latest/advanced-usage.html#ssl-warnings\n",
      "  warnings.warn(\n",
      "/Users/shreyas/anaconda3/envs/minio/lib/python3.8/site-packages/urllib3/connectionpool.py:979: InsecureRequestWarning: Unverified HTTPS request is being made to host 'minio.materialsproject.org'. Adding certificate verification is strongly advised. See: https://urllib3.readthedocs.io/en/latest/advanced-usage.html#ssl-warnings\n",
      "  warnings.warn(\n",
      "/Users/shreyas/anaconda3/envs/minio/lib/python3.8/site-packages/urllib3/connectionpool.py:979: InsecureRequestWarning: Unverified HTTPS request is being made to host 'minio.materialsproject.org'. Adding certificate verification is strongly advised. See: https://urllib3.readthedocs.io/en/latest/advanced-usage.html#ssl-warnings\n",
      "  warnings.warn(\n",
      "/Users/shreyas/anaconda3/envs/minio/lib/python3.8/site-packages/urllib3/connectionpool.py:979: InsecureRequestWarning: Unverified HTTPS request is being made to host 'minio.materialsproject.org'. Adding certificate verification is strongly advised. See: https://urllib3.readthedocs.io/en/latest/advanced-usage.html#ssl-warnings\n",
      "  warnings.warn(\n",
      "/Users/shreyas/anaconda3/envs/minio/lib/python3.8/site-packages/urllib3/connectionpool.py:979: InsecureRequestWarning: Unverified HTTPS request is being made to host 'minio.materialsproject.org'. Adding certificate verification is strongly advised. See: https://urllib3.readthedocs.io/en/latest/advanced-usage.html#ssl-warnings\n",
      "  warnings.warn(\n",
      "/Users/shreyas/anaconda3/envs/minio/lib/python3.8/site-packages/urllib3/connectionpool.py:979: InsecureRequestWarning: Unverified HTTPS request is being made to host 'minio.materialsproject.org'. Adding certificate verification is strongly advised. See: https://urllib3.readthedocs.io/en/latest/advanced-usage.html#ssl-warnings\n",
      "  warnings.warn(\n",
      "/Users/shreyas/anaconda3/envs/minio/lib/python3.8/site-packages/urllib3/connectionpool.py:979: InsecureRequestWarning: Unverified HTTPS request is being made to host 'minio.materialsproject.org'. Adding certificate verification is strongly advised. See: https://urllib3.readthedocs.io/en/latest/advanced-usage.html#ssl-warnings\n",
      "  warnings.warn(\n",
      "/Users/shreyas/anaconda3/envs/minio/lib/python3.8/site-packages/urllib3/connectionpool.py:979: InsecureRequestWarning: Unverified HTTPS request is being made to host 'minio.materialsproject.org'. Adding certificate verification is strongly advised. See: https://urllib3.readthedocs.io/en/latest/advanced-usage.html#ssl-warnings\n",
      "  warnings.warn(\n",
      "/Users/shreyas/anaconda3/envs/minio/lib/python3.8/site-packages/urllib3/connectionpool.py:979: InsecureRequestWarning: Unverified HTTPS request is being made to host 'minio.materialsproject.org'. Adding certificate verification is strongly advised. See: https://urllib3.readthedocs.io/en/latest/advanced-usage.html#ssl-warnings\n",
      "  warnings.warn(\n",
      "/Users/shreyas/anaconda3/envs/minio/lib/python3.8/site-packages/urllib3/connectionpool.py:979: InsecureRequestWarning: Unverified HTTPS request is being made to host 'minio.materialsproject.org'. Adding certificate verification is strongly advised. See: https://urllib3.readthedocs.io/en/latest/advanced-usage.html#ssl-warnings\n",
      "  warnings.warn(\n",
      "/Users/shreyas/anaconda3/envs/minio/lib/python3.8/site-packages/urllib3/connectionpool.py:979: InsecureRequestWarning: Unverified HTTPS request is being made to host 'minio.materialsproject.org'. Adding certificate verification is strongly advised. See: https://urllib3.readthedocs.io/en/latest/advanced-usage.html#ssl-warnings\n",
      "  warnings.warn(\n",
      "/Users/shreyas/anaconda3/envs/minio/lib/python3.8/site-packages/urllib3/connectionpool.py:979: InsecureRequestWarning: Unverified HTTPS request is being made to host 'minio.materialsproject.org'. Adding certificate verification is strongly advised. See: https://urllib3.readthedocs.io/en/latest/advanced-usage.html#ssl-warnings\n",
      "  warnings.warn(\n",
      "/Users/shreyas/anaconda3/envs/minio/lib/python3.8/site-packages/urllib3/connectionpool.py:979: InsecureRequestWarning: Unverified HTTPS request is being made to host 'minio.materialsproject.org'. Adding certificate verification is strongly advised. See: https://urllib3.readthedocs.io/en/latest/advanced-usage.html#ssl-warnings\n",
      "  warnings.warn(\n",
      "/Users/shreyas/anaconda3/envs/minio/lib/python3.8/site-packages/urllib3/connectionpool.py:979: InsecureRequestWarning: Unverified HTTPS request is being made to host 'minio.materialsproject.org'. Adding certificate verification is strongly advised. See: https://urllib3.readthedocs.io/en/latest/advanced-usage.html#ssl-warnings\n",
      "  warnings.warn(\n",
      "/Users/shreyas/anaconda3/envs/minio/lib/python3.8/site-packages/urllib3/connectionpool.py:979: InsecureRequestWarning: Unverified HTTPS request is being made to host 'minio.materialsproject.org'. Adding certificate verification is strongly advised. See: https://urllib3.readthedocs.io/en/latest/advanced-usage.html#ssl-warnings\n",
      "  warnings.warn(\n",
      "/Users/shreyas/anaconda3/envs/minio/lib/python3.8/site-packages/urllib3/connectionpool.py:979: InsecureRequestWarning: Unverified HTTPS request is being made to host 'minio.materialsproject.org'. Adding certificate verification is strongly advised. See: https://urllib3.readthedocs.io/en/latest/advanced-usage.html#ssl-warnings\n",
      "  warnings.warn(\n",
      "/Users/shreyas/anaconda3/envs/minio/lib/python3.8/site-packages/urllib3/connectionpool.py:979: InsecureRequestWarning: Unverified HTTPS request is being made to host 'minio.materialsproject.org'. Adding certificate verification is strongly advised. See: https://urllib3.readthedocs.io/en/latest/advanced-usage.html#ssl-warnings\n",
      "  warnings.warn(\n"
     ]
    }
   ],
   "source": [
    "\n",
    "for i in range(4):\n",
    "    t = MyPut()\n",
    "    t.start()"
   ]
  },
  {
   "cell_type": "code",
   "execution_count": 15,
   "metadata": {},
   "outputs": [],
   "source": [
    "def put_data(key):\n",
    "    # Here we create a new session per thread\n",
    "    session = Session(profile_name=\"mp_shreyas\")\n",
    "\n",
    "    # Next, we create a resource client using our thread's session object\n",
    "    resource = session.resource(\"s3\", endpoint_url=\"https://minio.materialsproject.org\", verify=False)\n",
    "    s3_bucket = resource.Bucket(\"shreyas\")\n",
    "\n",
    "    s3_bucket.put_object(Key=f\"test/{key}\", Body=data)   "
   ]
  },
  {
   "cell_type": "code",
   "execution_count": 18,
   "metadata": {},
   "outputs": [
    {
     "name": "stderr",
     "output_type": "stream",
     "text": [
      "<ipython-input-18-3f874c61b14c>:3: DeprecationWarning: Passing 'fn' as keyword argument is deprecated\n",
      "  pool.submit(fn=put_data, key=uuid.uuid4()) for i in range(40)\n",
      "/Users/shreyas/anaconda3/envs/minio/lib/python3.8/site-packages/urllib3/connectionpool.py:979: InsecureRequestWarning: Unverified HTTPS request is being made to host 'minio.materialsproject.org'. Adding certificate verification is strongly advised. See: https://urllib3.readthedocs.io/en/latest/advanced-usage.html#ssl-warnings\n",
      "  warnings.warn(\n",
      "/Users/shreyas/anaconda3/envs/minio/lib/python3.8/site-packages/urllib3/connectionpool.py:979: InsecureRequestWarning: Unverified HTTPS request is being made to host 'minio.materialsproject.org'. Adding certificate verification is strongly advised. See: https://urllib3.readthedocs.io/en/latest/advanced-usage.html#ssl-warnings\n",
      "  warnings.warn(\n",
      "/Users/shreyas/anaconda3/envs/minio/lib/python3.8/site-packages/urllib3/connectionpool.py:979: InsecureRequestWarning: Unverified HTTPS request is being made to host 'minio.materialsproject.org'. Adding certificate verification is strongly advised. See: https://urllib3.readthedocs.io/en/latest/advanced-usage.html#ssl-warnings\n",
      "  warnings.warn(\n",
      "/Users/shreyas/anaconda3/envs/minio/lib/python3.8/site-packages/urllib3/connectionpool.py:979: InsecureRequestWarning: Unverified HTTPS request is being made to host 'minio.materialsproject.org'. Adding certificate verification is strongly advised. See: https://urllib3.readthedocs.io/en/latest/advanced-usage.html#ssl-warnings\n",
      "  warnings.warn(\n",
      "/Users/shreyas/anaconda3/envs/minio/lib/python3.8/site-packages/urllib3/connectionpool.py:979: InsecureRequestWarning: Unverified HTTPS request is being made to host 'minio.materialsproject.org'. Adding certificate verification is strongly advised. See: https://urllib3.readthedocs.io/en/latest/advanced-usage.html#ssl-warnings\n",
      "  warnings.warn(\n",
      "/Users/shreyas/anaconda3/envs/minio/lib/python3.8/site-packages/urllib3/connectionpool.py:979: InsecureRequestWarning: Unverified HTTPS request is being made to host 'minio.materialsproject.org'. Adding certificate verification is strongly advised. See: https://urllib3.readthedocs.io/en/latest/advanced-usage.html#ssl-warnings\n",
      "  warnings.warn(\n",
      "/Users/shreyas/anaconda3/envs/minio/lib/python3.8/site-packages/urllib3/connectionpool.py:979: InsecureRequestWarning: Unverified HTTPS request is being made to host 'minio.materialsproject.org'. Adding certificate verification is strongly advised. See: https://urllib3.readthedocs.io/en/latest/advanced-usage.html#ssl-warnings\n",
      "  warnings.warn(\n",
      "/Users/shreyas/anaconda3/envs/minio/lib/python3.8/site-packages/urllib3/connectionpool.py:979: InsecureRequestWarning: Unverified HTTPS request is being made to host 'minio.materialsproject.org'. Adding certificate verification is strongly advised. See: https://urllib3.readthedocs.io/en/latest/advanced-usage.html#ssl-warnings\n",
      "  warnings.warn(\n",
      "/Users/shreyas/anaconda3/envs/minio/lib/python3.8/site-packages/urllib3/connectionpool.py:979: InsecureRequestWarning: Unverified HTTPS request is being made to host 'minio.materialsproject.org'. Adding certificate verification is strongly advised. See: https://urllib3.readthedocs.io/en/latest/advanced-usage.html#ssl-warnings\n",
      "  warnings.warn(\n",
      "/Users/shreyas/anaconda3/envs/minio/lib/python3.8/site-packages/urllib3/connectionpool.py:979: InsecureRequestWarning: Unverified HTTPS request is being made to host 'minio.materialsproject.org'. Adding certificate verification is strongly advised. See: https://urllib3.readthedocs.io/en/latest/advanced-usage.html#ssl-warnings\n",
      "  warnings.warn(\n",
      "/Users/shreyas/anaconda3/envs/minio/lib/python3.8/site-packages/urllib3/connectionpool.py:979: InsecureRequestWarning: Unverified HTTPS request is being made to host 'minio.materialsproject.org'. Adding certificate verification is strongly advised. See: https://urllib3.readthedocs.io/en/latest/advanced-usage.html#ssl-warnings\n",
      "  warnings.warn(\n",
      "/Users/shreyas/anaconda3/envs/minio/lib/python3.8/site-packages/urllib3/connectionpool.py:979: InsecureRequestWarning: Unverified HTTPS request is being made to host 'minio.materialsproject.org'. Adding certificate verification is strongly advised. See: https://urllib3.readthedocs.io/en/latest/advanced-usage.html#ssl-warnings\n",
      "  warnings.warn(\n",
      "/Users/shreyas/anaconda3/envs/minio/lib/python3.8/site-packages/urllib3/connectionpool.py:979: InsecureRequestWarning: Unverified HTTPS request is being made to host 'minio.materialsproject.org'. Adding certificate verification is strongly advised. See: https://urllib3.readthedocs.io/en/latest/advanced-usage.html#ssl-warnings\n",
      "  warnings.warn(\n",
      "/Users/shreyas/anaconda3/envs/minio/lib/python3.8/site-packages/urllib3/connectionpool.py:979: InsecureRequestWarning: Unverified HTTPS request is being made to host 'minio.materialsproject.org'. Adding certificate verification is strongly advised. See: https://urllib3.readthedocs.io/en/latest/advanced-usage.html#ssl-warnings\n",
      "  warnings.warn(\n",
      "/Users/shreyas/anaconda3/envs/minio/lib/python3.8/site-packages/urllib3/connectionpool.py:979: InsecureRequestWarning: Unverified HTTPS request is being made to host 'minio.materialsproject.org'. Adding certificate verification is strongly advised. See: https://urllib3.readthedocs.io/en/latest/advanced-usage.html#ssl-warnings\n",
      "  warnings.warn(\n",
      "/Users/shreyas/anaconda3/envs/minio/lib/python3.8/site-packages/urllib3/connectionpool.py:979: InsecureRequestWarning: Unverified HTTPS request is being made to host 'minio.materialsproject.org'. Adding certificate verification is strongly advised. See: https://urllib3.readthedocs.io/en/latest/advanced-usage.html#ssl-warnings\n",
      "  warnings.warn(\n",
      "/Users/shreyas/anaconda3/envs/minio/lib/python3.8/site-packages/urllib3/connectionpool.py:979: InsecureRequestWarning: Unverified HTTPS request is being made to host 'minio.materialsproject.org'. Adding certificate verification is strongly advised. See: https://urllib3.readthedocs.io/en/latest/advanced-usage.html#ssl-warnings\n",
      "  warnings.warn(\n",
      "/Users/shreyas/anaconda3/envs/minio/lib/python3.8/site-packages/urllib3/connectionpool.py:979: InsecureRequestWarning: Unverified HTTPS request is being made to host 'minio.materialsproject.org'. Adding certificate verification is strongly advised. See: https://urllib3.readthedocs.io/en/latest/advanced-usage.html#ssl-warnings\n",
      "  warnings.warn(\n",
      "/Users/shreyas/anaconda3/envs/minio/lib/python3.8/site-packages/urllib3/connectionpool.py:979: InsecureRequestWarning: Unverified HTTPS request is being made to host 'minio.materialsproject.org'. Adding certificate verification is strongly advised. See: https://urllib3.readthedocs.io/en/latest/advanced-usage.html#ssl-warnings\n",
      "  warnings.warn(\n",
      "/Users/shreyas/anaconda3/envs/minio/lib/python3.8/site-packages/urllib3/connectionpool.py:979: InsecureRequestWarning: Unverified HTTPS request is being made to host 'minio.materialsproject.org'. Adding certificate verification is strongly advised. See: https://urllib3.readthedocs.io/en/latest/advanced-usage.html#ssl-warnings\n",
      "  warnings.warn(\n",
      "/Users/shreyas/anaconda3/envs/minio/lib/python3.8/site-packages/urllib3/connectionpool.py:979: InsecureRequestWarning: Unverified HTTPS request is being made to host 'minio.materialsproject.org'. Adding certificate verification is strongly advised. See: https://urllib3.readthedocs.io/en/latest/advanced-usage.html#ssl-warnings\n",
      "  warnings.warn(\n",
      "/Users/shreyas/anaconda3/envs/minio/lib/python3.8/site-packages/urllib3/connectionpool.py:979: InsecureRequestWarning: Unverified HTTPS request is being made to host 'minio.materialsproject.org'. Adding certificate verification is strongly advised. See: https://urllib3.readthedocs.io/en/latest/advanced-usage.html#ssl-warnings\n",
      "  warnings.warn(\n",
      "/Users/shreyas/anaconda3/envs/minio/lib/python3.8/site-packages/urllib3/connectionpool.py:979: InsecureRequestWarning: Unverified HTTPS request is being made to host 'minio.materialsproject.org'. Adding certificate verification is strongly advised. See: https://urllib3.readthedocs.io/en/latest/advanced-usage.html#ssl-warnings\n",
      "  warnings.warn(\n",
      "/Users/shreyas/anaconda3/envs/minio/lib/python3.8/site-packages/urllib3/connectionpool.py:979: InsecureRequestWarning: Unverified HTTPS request is being made to host 'minio.materialsproject.org'. Adding certificate verification is strongly advised. See: https://urllib3.readthedocs.io/en/latest/advanced-usage.html#ssl-warnings\n",
      "  warnings.warn(\n",
      "/Users/shreyas/anaconda3/envs/minio/lib/python3.8/site-packages/urllib3/connectionpool.py:979: InsecureRequestWarning: Unverified HTTPS request is being made to host 'minio.materialsproject.org'. Adding certificate verification is strongly advised. See: https://urllib3.readthedocs.io/en/latest/advanced-usage.html#ssl-warnings\n",
      "  warnings.warn(\n",
      "/Users/shreyas/anaconda3/envs/minio/lib/python3.8/site-packages/urllib3/connectionpool.py:979: InsecureRequestWarning: Unverified HTTPS request is being made to host 'minio.materialsproject.org'. Adding certificate verification is strongly advised. See: https://urllib3.readthedocs.io/en/latest/advanced-usage.html#ssl-warnings\n",
      "  warnings.warn(\n",
      "/Users/shreyas/anaconda3/envs/minio/lib/python3.8/site-packages/urllib3/connectionpool.py:979: InsecureRequestWarning: Unverified HTTPS request is being made to host 'minio.materialsproject.org'. Adding certificate verification is strongly advised. See: https://urllib3.readthedocs.io/en/latest/advanced-usage.html#ssl-warnings\n",
      "  warnings.warn(\n",
      "/Users/shreyas/anaconda3/envs/minio/lib/python3.8/site-packages/urllib3/connectionpool.py:979: InsecureRequestWarning: Unverified HTTPS request is being made to host 'minio.materialsproject.org'. Adding certificate verification is strongly advised. See: https://urllib3.readthedocs.io/en/latest/advanced-usage.html#ssl-warnings\n",
      "  warnings.warn(\n",
      "/Users/shreyas/anaconda3/envs/minio/lib/python3.8/site-packages/urllib3/connectionpool.py:979: InsecureRequestWarning: Unverified HTTPS request is being made to host 'minio.materialsproject.org'. Adding certificate verification is strongly advised. See: https://urllib3.readthedocs.io/en/latest/advanced-usage.html#ssl-warnings\n",
      "  warnings.warn(\n",
      "/Users/shreyas/anaconda3/envs/minio/lib/python3.8/site-packages/urllib3/connectionpool.py:979: InsecureRequestWarning: Unverified HTTPS request is being made to host 'minio.materialsproject.org'. Adding certificate verification is strongly advised. See: https://urllib3.readthedocs.io/en/latest/advanced-usage.html#ssl-warnings\n",
      "  warnings.warn(\n",
      "/Users/shreyas/anaconda3/envs/minio/lib/python3.8/site-packages/urllib3/connectionpool.py:979: InsecureRequestWarning: Unverified HTTPS request is being made to host 'minio.materialsproject.org'. Adding certificate verification is strongly advised. See: https://urllib3.readthedocs.io/en/latest/advanced-usage.html#ssl-warnings\n",
      "  warnings.warn(\n",
      "/Users/shreyas/anaconda3/envs/minio/lib/python3.8/site-packages/urllib3/connectionpool.py:979: InsecureRequestWarning: Unverified HTTPS request is being made to host 'minio.materialsproject.org'. Adding certificate verification is strongly advised. See: https://urllib3.readthedocs.io/en/latest/advanced-usage.html#ssl-warnings\n",
      "  warnings.warn(\n",
      "/Users/shreyas/anaconda3/envs/minio/lib/python3.8/site-packages/urllib3/connectionpool.py:979: InsecureRequestWarning: Unverified HTTPS request is being made to host 'minio.materialsproject.org'. Adding certificate verification is strongly advised. See: https://urllib3.readthedocs.io/en/latest/advanced-usage.html#ssl-warnings\n",
      "  warnings.warn(\n",
      "/Users/shreyas/anaconda3/envs/minio/lib/python3.8/site-packages/urllib3/connectionpool.py:979: InsecureRequestWarning: Unverified HTTPS request is being made to host 'minio.materialsproject.org'. Adding certificate verification is strongly advised. See: https://urllib3.readthedocs.io/en/latest/advanced-usage.html#ssl-warnings\n",
      "  warnings.warn(\n",
      "/Users/shreyas/anaconda3/envs/minio/lib/python3.8/site-packages/urllib3/connectionpool.py:979: InsecureRequestWarning: Unverified HTTPS request is being made to host 'minio.materialsproject.org'. Adding certificate verification is strongly advised. See: https://urllib3.readthedocs.io/en/latest/advanced-usage.html#ssl-warnings\n",
      "  warnings.warn(\n",
      "/Users/shreyas/anaconda3/envs/minio/lib/python3.8/site-packages/urllib3/connectionpool.py:979: InsecureRequestWarning: Unverified HTTPS request is being made to host 'minio.materialsproject.org'. Adding certificate verification is strongly advised. See: https://urllib3.readthedocs.io/en/latest/advanced-usage.html#ssl-warnings\n",
      "  warnings.warn(\n",
      "/Users/shreyas/anaconda3/envs/minio/lib/python3.8/site-packages/urllib3/connectionpool.py:979: InsecureRequestWarning: Unverified HTTPS request is being made to host 'minio.materialsproject.org'. Adding certificate verification is strongly advised. See: https://urllib3.readthedocs.io/en/latest/advanced-usage.html#ssl-warnings\n",
      "  warnings.warn(\n",
      "/Users/shreyas/anaconda3/envs/minio/lib/python3.8/site-packages/urllib3/connectionpool.py:979: InsecureRequestWarning: Unverified HTTPS request is being made to host 'minio.materialsproject.org'. Adding certificate verification is strongly advised. See: https://urllib3.readthedocs.io/en/latest/advanced-usage.html#ssl-warnings\n",
      "  warnings.warn(\n",
      "/Users/shreyas/anaconda3/envs/minio/lib/python3.8/site-packages/urllib3/connectionpool.py:979: InsecureRequestWarning: Unverified HTTPS request is being made to host 'minio.materialsproject.org'. Adding certificate verification is strongly advised. See: https://urllib3.readthedocs.io/en/latest/advanced-usage.html#ssl-warnings\n",
      "  warnings.warn(\n",
      "/Users/shreyas/anaconda3/envs/minio/lib/python3.8/site-packages/urllib3/connectionpool.py:979: InsecureRequestWarning: Unverified HTTPS request is being made to host 'minio.materialsproject.org'. Adding certificate verification is strongly advised. See: https://urllib3.readthedocs.io/en/latest/advanced-usage.html#ssl-warnings\n",
      "  warnings.warn(\n"
     ]
    }
   ],
   "source": [
    "with ThreadPoolExecutor(max_workers=4) as pool:\n",
    "    fs = {\n",
    "        pool.submit(fn=put_data, key=uuid.uuid4()) for i in range(40)\n",
    "    }\n",
    "    fs, _ = wait(fs)"
   ]
  },
  {
   "cell_type": "code",
   "execution_count": null,
   "metadata": {},
   "outputs": [
    {
     "name": "stderr",
     "output_type": "stream",
     "text": [
      "<ipython-input-19-d5c6f3ae8967>:25: DeprecationWarning: Passing 'fn' as keyword argument is deprecated\n",
      "  pool.submit(\n"
     ]
    },
    {
     "name": "stdout",
     "output_type": "stream",
     "text": [
      "runnin on thread <Thread(ThreadPoolExecutor-2_0, started daemon 123145581219840)>\n",
      "runnin on thread <Thread(ThreadPoolExecutor-2_1, started daemon 123145598009344)>\n",
      "runnin on thread <Thread(ThreadPoolExecutor-2_2, started daemon 123145614798848)>\n",
      "runnin on thread <Thread(ThreadPoolExecutor-2_3, started daemon 123145631588352)>\n"
     ]
    },
    {
     "name": "stderr",
     "output_type": "stream",
     "text": [
      "/Users/shreyas/anaconda3/envs/minio/lib/python3.8/site-packages/urllib3/connectionpool.py:979: InsecureRequestWarning: Unverified HTTPS request is being made to host 'minio.materialsproject.org'. Adding certificate verification is strongly advised. See: https://urllib3.readthedocs.io/en/latest/advanced-usage.html#ssl-warnings\n",
      "  warnings.warn(\n",
      "/Users/shreyas/anaconda3/envs/minio/lib/python3.8/site-packages/urllib3/connectionpool.py:979: InsecureRequestWarning: Unverified HTTPS request is being made to host 'minio.materialsproject.org'. Adding certificate verification is strongly advised. See: https://urllib3.readthedocs.io/en/latest/advanced-usage.html#ssl-warnings\n",
      "  warnings.warn(\n",
      "/Users/shreyas/anaconda3/envs/minio/lib/python3.8/site-packages/urllib3/connectionpool.py:979: InsecureRequestWarning: Unverified HTTPS request is being made to host 'minio.materialsproject.org'. Adding certificate verification is strongly advised. See: https://urllib3.readthedocs.io/en/latest/advanced-usage.html#ssl-warnings\n",
      "  warnings.warn(\n",
      "/Users/shreyas/anaconda3/envs/minio/lib/python3.8/site-packages/urllib3/connectionpool.py:979: InsecureRequestWarning: Unverified HTTPS request is being made to host 'minio.materialsproject.org'. Adding certificate verification is strongly advised. See: https://urllib3.readthedocs.io/en/latest/advanced-usage.html#ssl-warnings\n",
      "  warnings.warn(\n"
     ]
    },
    {
     "name": "stdout",
     "output_type": "stream",
     "text": [
      "runnin on thread <Thread(ThreadPoolExecutor-2_0, started daemon 123145581219840)>\n"
     ]
    },
    {
     "name": "stderr",
     "output_type": "stream",
     "text": [
      "/Users/shreyas/anaconda3/envs/minio/lib/python3.8/site-packages/urllib3/connectionpool.py:979: InsecureRequestWarning: Unverified HTTPS request is being made to host 'minio.materialsproject.org'. Adding certificate verification is strongly advised. See: https://urllib3.readthedocs.io/en/latest/advanced-usage.html#ssl-warnings\n",
      "  warnings.warn(\n"
     ]
    },
    {
     "name": "stdout",
     "output_type": "stream",
     "text": [
      "runnin on thread <Thread(ThreadPoolExecutor-2_1, started daemon 123145598009344)>\n"
     ]
    },
    {
     "name": "stderr",
     "output_type": "stream",
     "text": [
      "/Users/shreyas/anaconda3/envs/minio/lib/python3.8/site-packages/urllib3/connectionpool.py:979: InsecureRequestWarning: Unverified HTTPS request is being made to host 'minio.materialsproject.org'. Adding certificate verification is strongly advised. See: https://urllib3.readthedocs.io/en/latest/advanced-usage.html#ssl-warnings\n",
      "  warnings.warn(\n"
     ]
    },
    {
     "name": "stdout",
     "output_type": "stream",
     "text": [
      "runnin on thread <Thread(ThreadPoolExecutor-2_3, started daemon 123145631588352)>\n"
     ]
    },
    {
     "name": "stderr",
     "output_type": "stream",
     "text": [
      "/Users/shreyas/anaconda3/envs/minio/lib/python3.8/site-packages/urllib3/connectionpool.py:979: InsecureRequestWarning: Unverified HTTPS request is being made to host 'minio.materialsproject.org'. Adding certificate verification is strongly advised. See: https://urllib3.readthedocs.io/en/latest/advanced-usage.html#ssl-warnings\n",
      "  warnings.warn(\n"
     ]
    },
    {
     "name": "stdout",
     "output_type": "stream",
     "text": [
      "runnin on thread <Thread(ThreadPoolExecutor-2_1, started daemon 123145598009344)>\n"
     ]
    },
    {
     "name": "stderr",
     "output_type": "stream",
     "text": [
      "/Users/shreyas/anaconda3/envs/minio/lib/python3.8/site-packages/urllib3/connectionpool.py:979: InsecureRequestWarning: Unverified HTTPS request is being made to host 'minio.materialsproject.org'. Adding certificate verification is strongly advised. See: https://urllib3.readthedocs.io/en/latest/advanced-usage.html#ssl-warnings\n",
      "  warnings.warn(\n"
     ]
    },
    {
     "name": "stdout",
     "output_type": "stream",
     "text": [
      "runnin on thread <Thread(ThreadPoolExecutor-2_2, started daemon 123145614798848)>\n"
     ]
    },
    {
     "name": "stderr",
     "output_type": "stream",
     "text": [
      "/Users/shreyas/anaconda3/envs/minio/lib/python3.8/site-packages/urllib3/connectionpool.py:979: InsecureRequestWarning: Unverified HTTPS request is being made to host 'minio.materialsproject.org'. Adding certificate verification is strongly advised. See: https://urllib3.readthedocs.io/en/latest/advanced-usage.html#ssl-warnings\n",
      "  warnings.warn(\n"
     ]
    },
    {
     "name": "stdout",
     "output_type": "stream",
     "text": [
      "runnin on thread <Thread(ThreadPoolExecutor-2_1, started daemon 123145598009344)>\n"
     ]
    },
    {
     "name": "stderr",
     "output_type": "stream",
     "text": [
      "/Users/shreyas/anaconda3/envs/minio/lib/python3.8/site-packages/urllib3/connectionpool.py:979: InsecureRequestWarning: Unverified HTTPS request is being made to host 'minio.materialsproject.org'. Adding certificate verification is strongly advised. See: https://urllib3.readthedocs.io/en/latest/advanced-usage.html#ssl-warnings\n",
      "  warnings.warn(\n"
     ]
    },
    {
     "name": "stdout",
     "output_type": "stream",
     "text": [
      "runnin on thread <Thread(ThreadPoolExecutor-2_2, started daemon 123145614798848)>\n"
     ]
    },
    {
     "name": "stderr",
     "output_type": "stream",
     "text": [
      "/Users/shreyas/anaconda3/envs/minio/lib/python3.8/site-packages/urllib3/connectionpool.py:979: InsecureRequestWarning: Unverified HTTPS request is being made to host 'minio.materialsproject.org'. Adding certificate verification is strongly advised. See: https://urllib3.readthedocs.io/en/latest/advanced-usage.html#ssl-warnings\n",
      "  warnings.warn(\n"
     ]
    },
    {
     "name": "stdout",
     "output_type": "stream",
     "text": [
      "runnin on thread <Thread(ThreadPoolExecutor-2_3, started daemon 123145631588352)>\n"
     ]
    },
    {
     "name": "stderr",
     "output_type": "stream",
     "text": [
      "/Users/shreyas/anaconda3/envs/minio/lib/python3.8/site-packages/urllib3/connectionpool.py:979: InsecureRequestWarning: Unverified HTTPS request is being made to host 'minio.materialsproject.org'. Adding certificate verification is strongly advised. See: https://urllib3.readthedocs.io/en/latest/advanced-usage.html#ssl-warnings\n",
      "  warnings.warn(\n"
     ]
    },
    {
     "name": "stdout",
     "output_type": "stream",
     "text": [
      "runnin on thread <Thread(ThreadPoolExecutor-2_3, started daemon 123145631588352)>\n"
     ]
    },
    {
     "name": "stderr",
     "output_type": "stream",
     "text": [
      "/Users/shreyas/anaconda3/envs/minio/lib/python3.8/site-packages/urllib3/connectionpool.py:979: InsecureRequestWarning: Unverified HTTPS request is being made to host 'minio.materialsproject.org'. Adding certificate verification is strongly advised. See: https://urllib3.readthedocs.io/en/latest/advanced-usage.html#ssl-warnings\n",
      "  warnings.warn(\n"
     ]
    },
    {
     "name": "stdout",
     "output_type": "stream",
     "text": [
      "runnin on thread <Thread(ThreadPoolExecutor-2_2, started daemon 123145614798848)>\n"
     ]
    },
    {
     "name": "stderr",
     "output_type": "stream",
     "text": [
      "/Users/shreyas/anaconda3/envs/minio/lib/python3.8/site-packages/urllib3/connectionpool.py:979: InsecureRequestWarning: Unverified HTTPS request is being made to host 'minio.materialsproject.org'. Adding certificate verification is strongly advised. See: https://urllib3.readthedocs.io/en/latest/advanced-usage.html#ssl-warnings\n",
      "  warnings.warn(\n"
     ]
    },
    {
     "name": "stdout",
     "output_type": "stream",
     "text": [
      "runnin on thread <Thread(ThreadPoolExecutor-2_3, started daemon 123145631588352)>\n"
     ]
    },
    {
     "name": "stderr",
     "output_type": "stream",
     "text": [
      "/Users/shreyas/anaconda3/envs/minio/lib/python3.8/site-packages/urllib3/connectionpool.py:979: InsecureRequestWarning: Unverified HTTPS request is being made to host 'minio.materialsproject.org'. Adding certificate verification is strongly advised. See: https://urllib3.readthedocs.io/en/latest/advanced-usage.html#ssl-warnings\n",
      "  warnings.warn(\n"
     ]
    },
    {
     "name": "stdout",
     "output_type": "stream",
     "text": [
      "runnin on thread <Thread(ThreadPoolExecutor-2_2, started daemon 123145614798848)>\n",
      "runnin on thread <Thread(ThreadPoolExecutor-2_0, started daemon 123145581219840)>\n"
     ]
    },
    {
     "name": "stderr",
     "output_type": "stream",
     "text": [
      "/Users/shreyas/anaconda3/envs/minio/lib/python3.8/site-packages/urllib3/connectionpool.py:979: InsecureRequestWarning: Unverified HTTPS request is being made to host 'minio.materialsproject.org'. Adding certificate verification is strongly advised. See: https://urllib3.readthedocs.io/en/latest/advanced-usage.html#ssl-warnings\n",
      "  warnings.warn(\n",
      "/Users/shreyas/anaconda3/envs/minio/lib/python3.8/site-packages/urllib3/connectionpool.py:979: InsecureRequestWarning: Unverified HTTPS request is being made to host 'minio.materialsproject.org'. Adding certificate verification is strongly advised. See: https://urllib3.readthedocs.io/en/latest/advanced-usage.html#ssl-warnings\n",
      "  warnings.warn(\n"
     ]
    },
    {
     "name": "stdout",
     "output_type": "stream",
     "text": [
      "runnin on thread <Thread(ThreadPoolExecutor-2_3, started daemon 123145631588352)>\n"
     ]
    },
    {
     "name": "stderr",
     "output_type": "stream",
     "text": [
      "/Users/shreyas/anaconda3/envs/minio/lib/python3.8/site-packages/urllib3/connectionpool.py:979: InsecureRequestWarning: Unverified HTTPS request is being made to host 'minio.materialsproject.org'. Adding certificate verification is strongly advised. See: https://urllib3.readthedocs.io/en/latest/advanced-usage.html#ssl-warnings\n",
      "  warnings.warn(\n"
     ]
    },
    {
     "name": "stdout",
     "output_type": "stream",
     "text": [
      "runnin on thread <Thread(ThreadPoolExecutor-2_3, started daemon 123145631588352)>\n"
     ]
    },
    {
     "name": "stderr",
     "output_type": "stream",
     "text": [
      "/Users/shreyas/anaconda3/envs/minio/lib/python3.8/site-packages/urllib3/connectionpool.py:979: InsecureRequestWarning: Unverified HTTPS request is being made to host 'minio.materialsproject.org'. Adding certificate verification is strongly advised. See: https://urllib3.readthedocs.io/en/latest/advanced-usage.html#ssl-warnings\n",
      "  warnings.warn(\n"
     ]
    },
    {
     "name": "stdout",
     "output_type": "stream",
     "text": [
      "runnin on thread <Thread(ThreadPoolExecutor-2_3, started daemon 123145631588352)>\n"
     ]
    },
    {
     "name": "stderr",
     "output_type": "stream",
     "text": [
      "/Users/shreyas/anaconda3/envs/minio/lib/python3.8/site-packages/urllib3/connectionpool.py:979: InsecureRequestWarning: Unverified HTTPS request is being made to host 'minio.materialsproject.org'. Adding certificate verification is strongly advised. See: https://urllib3.readthedocs.io/en/latest/advanced-usage.html#ssl-warnings\n",
      "  warnings.warn(\n"
     ]
    },
    {
     "name": "stdout",
     "output_type": "stream",
     "text": [
      "runnin on thread <Thread(ThreadPoolExecutor-2_0, started daemon 123145581219840)>\n"
     ]
    },
    {
     "name": "stderr",
     "output_type": "stream",
     "text": [
      "/Users/shreyas/anaconda3/envs/minio/lib/python3.8/site-packages/urllib3/connectionpool.py:979: InsecureRequestWarning: Unverified HTTPS request is being made to host 'minio.materialsproject.org'. Adding certificate verification is strongly advised. See: https://urllib3.readthedocs.io/en/latest/advanced-usage.html#ssl-warnings\n",
      "  warnings.warn(\n"
     ]
    },
    {
     "name": "stdout",
     "output_type": "stream",
     "text": [
      "runnin on thread <Thread(ThreadPoolExecutor-2_3, started daemon 123145631588352)>\n"
     ]
    },
    {
     "name": "stderr",
     "output_type": "stream",
     "text": [
      "/Users/shreyas/anaconda3/envs/minio/lib/python3.8/site-packages/urllib3/connectionpool.py:979: InsecureRequestWarning: Unverified HTTPS request is being made to host 'minio.materialsproject.org'. Adding certificate verification is strongly advised. See: https://urllib3.readthedocs.io/en/latest/advanced-usage.html#ssl-warnings\n",
      "  warnings.warn(\n"
     ]
    },
    {
     "name": "stdout",
     "output_type": "stream",
     "text": [
      "runnin on thread <Thread(ThreadPoolExecutor-2_3, started daemon 123145631588352)>\n"
     ]
    },
    {
     "name": "stderr",
     "output_type": "stream",
     "text": [
      "/Users/shreyas/anaconda3/envs/minio/lib/python3.8/site-packages/urllib3/connectionpool.py:979: InsecureRequestWarning: Unverified HTTPS request is being made to host 'minio.materialsproject.org'. Adding certificate verification is strongly advised. See: https://urllib3.readthedocs.io/en/latest/advanced-usage.html#ssl-warnings\n",
      "  warnings.warn(\n"
     ]
    },
    {
     "name": "stdout",
     "output_type": "stream",
     "text": [
      "runnin on thread <Thread(ThreadPoolExecutor-2_2, started daemon 123145614798848)>\n"
     ]
    },
    {
     "name": "stderr",
     "output_type": "stream",
     "text": [
      "/Users/shreyas/anaconda3/envs/minio/lib/python3.8/site-packages/urllib3/connectionpool.py:979: InsecureRequestWarning: Unverified HTTPS request is being made to host 'minio.materialsproject.org'. Adding certificate verification is strongly advised. See: https://urllib3.readthedocs.io/en/latest/advanced-usage.html#ssl-warnings\n",
      "  warnings.warn(\n"
     ]
    },
    {
     "name": "stdout",
     "output_type": "stream",
     "text": [
      "runnin on thread <Thread(ThreadPoolExecutor-2_0, started daemon 123145581219840)>\n"
     ]
    },
    {
     "name": "stderr",
     "output_type": "stream",
     "text": [
      "/Users/shreyas/anaconda3/envs/minio/lib/python3.8/site-packages/urllib3/connectionpool.py:979: InsecureRequestWarning: Unverified HTTPS request is being made to host 'minio.materialsproject.org'. Adding certificate verification is strongly advised. See: https://urllib3.readthedocs.io/en/latest/advanced-usage.html#ssl-warnings\n",
      "  warnings.warn(\n"
     ]
    },
    {
     "name": "stdout",
     "output_type": "stream",
     "text": [
      "runnin on thread <Thread(ThreadPoolExecutor-2_1, started daemon 123145598009344)>\n"
     ]
    },
    {
     "name": "stderr",
     "output_type": "stream",
     "text": [
      "/Users/shreyas/anaconda3/envs/minio/lib/python3.8/site-packages/urllib3/connectionpool.py:979: InsecureRequestWarning: Unverified HTTPS request is being made to host 'minio.materialsproject.org'. Adding certificate verification is strongly advised. See: https://urllib3.readthedocs.io/en/latest/advanced-usage.html#ssl-warnings\n",
      "  warnings.warn(\n"
     ]
    },
    {
     "name": "stdout",
     "output_type": "stream",
     "text": [
      "runnin on thread <Thread(ThreadPoolExecutor-2_0, started daemon 123145581219840)>\n"
     ]
    },
    {
     "name": "stderr",
     "output_type": "stream",
     "text": [
      "/Users/shreyas/anaconda3/envs/minio/lib/python3.8/site-packages/urllib3/connectionpool.py:979: InsecureRequestWarning: Unverified HTTPS request is being made to host 'minio.materialsproject.org'. Adding certificate verification is strongly advised. See: https://urllib3.readthedocs.io/en/latest/advanced-usage.html#ssl-warnings\n",
      "  warnings.warn(\n"
     ]
    },
    {
     "name": "stdout",
     "output_type": "stream",
     "text": [
      "runnin on thread <Thread(ThreadPoolExecutor-2_3, started daemon 123145631588352)>\n"
     ]
    },
    {
     "name": "stderr",
     "output_type": "stream",
     "text": [
      "/Users/shreyas/anaconda3/envs/minio/lib/python3.8/site-packages/urllib3/connectionpool.py:979: InsecureRequestWarning: Unverified HTTPS request is being made to host 'minio.materialsproject.org'. Adding certificate verification is strongly advised. See: https://urllib3.readthedocs.io/en/latest/advanced-usage.html#ssl-warnings\n",
      "  warnings.warn(\n"
     ]
    },
    {
     "name": "stdout",
     "output_type": "stream",
     "text": [
      "runnin on thread <Thread(ThreadPoolExecutor-2_1, started daemon 123145598009344)>\n"
     ]
    },
    {
     "name": "stderr",
     "output_type": "stream",
     "text": [
      "/Users/shreyas/anaconda3/envs/minio/lib/python3.8/site-packages/urllib3/connectionpool.py:979: InsecureRequestWarning: Unverified HTTPS request is being made to host 'minio.materialsproject.org'. Adding certificate verification is strongly advised. See: https://urllib3.readthedocs.io/en/latest/advanced-usage.html#ssl-warnings\n",
      "  warnings.warn(\n"
     ]
    },
    {
     "name": "stdout",
     "output_type": "stream",
     "text": [
      "runnin on thread <Thread(ThreadPoolExecutor-2_3, started daemon 123145631588352)>\n"
     ]
    },
    {
     "name": "stderr",
     "output_type": "stream",
     "text": [
      "/Users/shreyas/anaconda3/envs/minio/lib/python3.8/site-packages/urllib3/connectionpool.py:979: InsecureRequestWarning: Unverified HTTPS request is being made to host 'minio.materialsproject.org'. Adding certificate verification is strongly advised. See: https://urllib3.readthedocs.io/en/latest/advanced-usage.html#ssl-warnings\n",
      "  warnings.warn(\n"
     ]
    },
    {
     "name": "stdout",
     "output_type": "stream",
     "text": [
      "runnin on thread <Thread(ThreadPoolExecutor-2_1, started daemon 123145598009344)>\n"
     ]
    },
    {
     "name": "stderr",
     "output_type": "stream",
     "text": [
      "/Users/shreyas/anaconda3/envs/minio/lib/python3.8/site-packages/urllib3/connectionpool.py:979: InsecureRequestWarning: Unverified HTTPS request is being made to host 'minio.materialsproject.org'. Adding certificate verification is strongly advised. See: https://urllib3.readthedocs.io/en/latest/advanced-usage.html#ssl-warnings\n",
      "  warnings.warn(\n"
     ]
    },
    {
     "name": "stdout",
     "output_type": "stream",
     "text": [
      "runnin on thread <Thread(ThreadPoolExecutor-2_1, started daemon 123145598009344)>\n"
     ]
    },
    {
     "name": "stderr",
     "output_type": "stream",
     "text": [
      "/Users/shreyas/anaconda3/envs/minio/lib/python3.8/site-packages/urllib3/connectionpool.py:979: InsecureRequestWarning: Unverified HTTPS request is being made to host 'minio.materialsproject.org'. Adding certificate verification is strongly advised. See: https://urllib3.readthedocs.io/en/latest/advanced-usage.html#ssl-warnings\n",
      "  warnings.warn(\n"
     ]
    },
    {
     "name": "stdout",
     "output_type": "stream",
     "text": [
      "runnin on thread <Thread(ThreadPoolExecutor-2_1, started daemon 123145598009344)>\n"
     ]
    },
    {
     "name": "stderr",
     "output_type": "stream",
     "text": [
      "/Users/shreyas/anaconda3/envs/minio/lib/python3.8/site-packages/urllib3/connectionpool.py:979: InsecureRequestWarning: Unverified HTTPS request is being made to host 'minio.materialsproject.org'. Adding certificate verification is strongly advised. See: https://urllib3.readthedocs.io/en/latest/advanced-usage.html#ssl-warnings\n",
      "  warnings.warn(\n"
     ]
    },
    {
     "name": "stdout",
     "output_type": "stream",
     "text": [
      "runnin on thread <Thread(ThreadPoolExecutor-2_3, started daemon 123145631588352)>\n"
     ]
    },
    {
     "name": "stderr",
     "output_type": "stream",
     "text": [
      "/Users/shreyas/anaconda3/envs/minio/lib/python3.8/site-packages/urllib3/connectionpool.py:979: InsecureRequestWarning: Unverified HTTPS request is being made to host 'minio.materialsproject.org'. Adding certificate verification is strongly advised. See: https://urllib3.readthedocs.io/en/latest/advanced-usage.html#ssl-warnings\n",
      "  warnings.warn(\n"
     ]
    },
    {
     "name": "stdout",
     "output_type": "stream",
     "text": [
      "runnin on thread <Thread(ThreadPoolExecutor-2_1, started daemon 123145598009344)>\n"
     ]
    },
    {
     "name": "stderr",
     "output_type": "stream",
     "text": [
      "/Users/shreyas/anaconda3/envs/minio/lib/python3.8/site-packages/urllib3/connectionpool.py:979: InsecureRequestWarning: Unverified HTTPS request is being made to host 'minio.materialsproject.org'. Adding certificate verification is strongly advised. See: https://urllib3.readthedocs.io/en/latest/advanced-usage.html#ssl-warnings\n",
      "  warnings.warn(\n"
     ]
    },
    {
     "name": "stdout",
     "output_type": "stream",
     "text": [
      "runnin on thread <Thread(ThreadPoolExecutor-2_3, started daemon 123145631588352)>\n"
     ]
    },
    {
     "name": "stderr",
     "output_type": "stream",
     "text": [
      "/Users/shreyas/anaconda3/envs/minio/lib/python3.8/site-packages/urllib3/connectionpool.py:979: InsecureRequestWarning: Unverified HTTPS request is being made to host 'minio.materialsproject.org'. Adding certificate verification is strongly advised. See: https://urllib3.readthedocs.io/en/latest/advanced-usage.html#ssl-warnings\n",
      "  warnings.warn(\n"
     ]
    },
    {
     "name": "stdout",
     "output_type": "stream",
     "text": [
      "runnin on thread <Thread(ThreadPoolExecutor-2_0, started daemon 123145581219840)>\n"
     ]
    },
    {
     "name": "stderr",
     "output_type": "stream",
     "text": [
      "/Users/shreyas/anaconda3/envs/minio/lib/python3.8/site-packages/urllib3/connectionpool.py:979: InsecureRequestWarning: Unverified HTTPS request is being made to host 'minio.materialsproject.org'. Adding certificate verification is strongly advised. See: https://urllib3.readthedocs.io/en/latest/advanced-usage.html#ssl-warnings\n",
      "  warnings.warn(\n"
     ]
    },
    {
     "name": "stdout",
     "output_type": "stream",
     "text": [
      "runnin on thread <Thread(ThreadPoolExecutor-2_1, started daemon 123145598009344)>\n"
     ]
    },
    {
     "name": "stderr",
     "output_type": "stream",
     "text": [
      "/Users/shreyas/anaconda3/envs/minio/lib/python3.8/site-packages/urllib3/connectionpool.py:979: InsecureRequestWarning: Unverified HTTPS request is being made to host 'minio.materialsproject.org'. Adding certificate verification is strongly advised. See: https://urllib3.readthedocs.io/en/latest/advanced-usage.html#ssl-warnings\n",
      "  warnings.warn(\n"
     ]
    },
    {
     "name": "stdout",
     "output_type": "stream",
     "text": [
      "runnin on thread <Thread(ThreadPoolExecutor-2_3, started daemon 123145631588352)>\n"
     ]
    },
    {
     "name": "stderr",
     "output_type": "stream",
     "text": [
      "/Users/shreyas/anaconda3/envs/minio/lib/python3.8/site-packages/urllib3/connectionpool.py:979: InsecureRequestWarning: Unverified HTTPS request is being made to host 'minio.materialsproject.org'. Adding certificate verification is strongly advised. See: https://urllib3.readthedocs.io/en/latest/advanced-usage.html#ssl-warnings\n",
      "  warnings.warn(\n"
     ]
    },
    {
     "name": "stdout",
     "output_type": "stream",
     "text": [
      "runnin on thread <Thread(ThreadPoolExecutor-2_0, started daemon 123145581219840)>\n",
      "runnin on thread <Thread(ThreadPoolExecutor-2_2, started daemon 123145614798848)>\n"
     ]
    },
    {
     "name": "stderr",
     "output_type": "stream",
     "text": [
      "/Users/shreyas/anaconda3/envs/minio/lib/python3.8/site-packages/urllib3/connectionpool.py:979: InsecureRequestWarning: Unverified HTTPS request is being made to host 'minio.materialsproject.org'. Adding certificate verification is strongly advised. See: https://urllib3.readthedocs.io/en/latest/advanced-usage.html#ssl-warnings\n",
      "  warnings.warn(\n",
      "/Users/shreyas/anaconda3/envs/minio/lib/python3.8/site-packages/urllib3/connectionpool.py:979: InsecureRequestWarning: Unverified HTTPS request is being made to host 'minio.materialsproject.org'. Adding certificate verification is strongly advised. See: https://urllib3.readthedocs.io/en/latest/advanced-usage.html#ssl-warnings\n",
      "  warnings.warn(\n"
     ]
    },
    {
     "name": "stdout",
     "output_type": "stream",
     "text": [
      "runnin on thread <Thread(ThreadPoolExecutor-2_1, started daemon 123145598009344)>\n"
     ]
    },
    {
     "name": "stderr",
     "output_type": "stream",
     "text": [
      "/Users/shreyas/anaconda3/envs/minio/lib/python3.8/site-packages/urllib3/connectionpool.py:979: InsecureRequestWarning: Unverified HTTPS request is being made to host 'minio.materialsproject.org'. Adding certificate verification is strongly advised. See: https://urllib3.readthedocs.io/en/latest/advanced-usage.html#ssl-warnings\n",
      "  warnings.warn(\n"
     ]
    },
    {
     "name": "stdout",
     "output_type": "stream",
     "text": [
      "runnin on thread <Thread(ThreadPoolExecutor-2_2, started daemon 123145614798848)>\n"
     ]
    },
    {
     "name": "stderr",
     "output_type": "stream",
     "text": [
      "/Users/shreyas/anaconda3/envs/minio/lib/python3.8/site-packages/urllib3/connectionpool.py:979: InsecureRequestWarning: Unverified HTTPS request is being made to host 'minio.materialsproject.org'. Adding certificate verification is strongly advised. See: https://urllib3.readthedocs.io/en/latest/advanced-usage.html#ssl-warnings\n",
      "  warnings.warn(\n"
     ]
    },
    {
     "name": "stdout",
     "output_type": "stream",
     "text": [
      "runnin on thread <Thread(ThreadPoolExecutor-2_0, started daemon 123145581219840)>\n"
     ]
    },
    {
     "name": "stderr",
     "output_type": "stream",
     "text": [
      "/Users/shreyas/anaconda3/envs/minio/lib/python3.8/site-packages/urllib3/connectionpool.py:979: InsecureRequestWarning: Unverified HTTPS request is being made to host 'minio.materialsproject.org'. Adding certificate verification is strongly advised. See: https://urllib3.readthedocs.io/en/latest/advanced-usage.html#ssl-warnings\n",
      "  warnings.warn(\n"
     ]
    },
    {
     "name": "stdout",
     "output_type": "stream",
     "text": [
      "runnin on thread <Thread(ThreadPoolExecutor-2_2, started daemon 123145614798848)>\n"
     ]
    },
    {
     "name": "stderr",
     "output_type": "stream",
     "text": [
      "/Users/shreyas/anaconda3/envs/minio/lib/python3.8/site-packages/urllib3/connectionpool.py:979: InsecureRequestWarning: Unverified HTTPS request is being made to host 'minio.materialsproject.org'. Adding certificate verification is strongly advised. See: https://urllib3.readthedocs.io/en/latest/advanced-usage.html#ssl-warnings\n",
      "  warnings.warn(\n"
     ]
    },
    {
     "name": "stdout",
     "output_type": "stream",
     "text": [
      "runnin on thread <Thread(ThreadPoolExecutor-2_2, started daemon 123145614798848)>\n"
     ]
    },
    {
     "name": "stderr",
     "output_type": "stream",
     "text": [
      "/Users/shreyas/anaconda3/envs/minio/lib/python3.8/site-packages/urllib3/connectionpool.py:979: InsecureRequestWarning: Unverified HTTPS request is being made to host 'minio.materialsproject.org'. Adding certificate verification is strongly advised. See: https://urllib3.readthedocs.io/en/latest/advanced-usage.html#ssl-warnings\n",
      "  warnings.warn(\n"
     ]
    },
    {
     "name": "stdout",
     "output_type": "stream",
     "text": [
      "runnin on thread <Thread(ThreadPoolExecutor-2_2, started daemon 123145614798848)>\n"
     ]
    },
    {
     "name": "stderr",
     "output_type": "stream",
     "text": [
      "/Users/shreyas/anaconda3/envs/minio/lib/python3.8/site-packages/urllib3/connectionpool.py:979: InsecureRequestWarning: Unverified HTTPS request is being made to host 'minio.materialsproject.org'. Adding certificate verification is strongly advised. See: https://urllib3.readthedocs.io/en/latest/advanced-usage.html#ssl-warnings\n",
      "  warnings.warn(\n"
     ]
    },
    {
     "name": "stdout",
     "output_type": "stream",
     "text": [
      "runnin on thread <Thread(ThreadPoolExecutor-2_3, started daemon 123145631588352)>\n"
     ]
    },
    {
     "name": "stderr",
     "output_type": "stream",
     "text": [
      "/Users/shreyas/anaconda3/envs/minio/lib/python3.8/site-packages/urllib3/connectionpool.py:979: InsecureRequestWarning: Unverified HTTPS request is being made to host 'minio.materialsproject.org'. Adding certificate verification is strongly advised. See: https://urllib3.readthedocs.io/en/latest/advanced-usage.html#ssl-warnings\n",
      "  warnings.warn(\n"
     ]
    },
    {
     "name": "stdout",
     "output_type": "stream",
     "text": [
      "runnin on thread <Thread(ThreadPoolExecutor-2_3, started daemon 123145631588352)>\n",
      "runnin on thread <Thread(ThreadPoolExecutor-2_1, started daemon 123145598009344)>\n"
     ]
    },
    {
     "name": "stderr",
     "output_type": "stream",
     "text": [
      "/Users/shreyas/anaconda3/envs/minio/lib/python3.8/site-packages/urllib3/connectionpool.py:979: InsecureRequestWarning: Unverified HTTPS request is being made to host 'minio.materialsproject.org'. Adding certificate verification is strongly advised. See: https://urllib3.readthedocs.io/en/latest/advanced-usage.html#ssl-warnings\n",
      "  warnings.warn(\n",
      "/Users/shreyas/anaconda3/envs/minio/lib/python3.8/site-packages/urllib3/connectionpool.py:979: InsecureRequestWarning: Unverified HTTPS request is being made to host 'minio.materialsproject.org'. Adding certificate verification is strongly advised. See: https://urllib3.readthedocs.io/en/latest/advanced-usage.html#ssl-warnings\n",
      "  warnings.warn(\n"
     ]
    },
    {
     "name": "stdout",
     "output_type": "stream",
     "text": [
      "runnin on thread <Thread(ThreadPoolExecutor-2_0, started daemon 123145581219840)>\n"
     ]
    },
    {
     "name": "stderr",
     "output_type": "stream",
     "text": [
      "/Users/shreyas/anaconda3/envs/minio/lib/python3.8/site-packages/urllib3/connectionpool.py:979: InsecureRequestWarning: Unverified HTTPS request is being made to host 'minio.materialsproject.org'. Adding certificate verification is strongly advised. See: https://urllib3.readthedocs.io/en/latest/advanced-usage.html#ssl-warnings\n",
      "  warnings.warn(\n"
     ]
    },
    {
     "name": "stdout",
     "output_type": "stream",
     "text": [
      "runnin on thread <Thread(ThreadPoolExecutor-2_2, started daemon 123145614798848)>\n"
     ]
    },
    {
     "name": "stderr",
     "output_type": "stream",
     "text": [
      "/Users/shreyas/anaconda3/envs/minio/lib/python3.8/site-packages/urllib3/connectionpool.py:979: InsecureRequestWarning: Unverified HTTPS request is being made to host 'minio.materialsproject.org'. Adding certificate verification is strongly advised. See: https://urllib3.readthedocs.io/en/latest/advanced-usage.html#ssl-warnings\n",
      "  warnings.warn(\n"
     ]
    },
    {
     "name": "stdout",
     "output_type": "stream",
     "text": [
      "runnin on thread <Thread(ThreadPoolExecutor-2_0, started daemon 123145581219840)>\n"
     ]
    },
    {
     "name": "stderr",
     "output_type": "stream",
     "text": [
      "/Users/shreyas/anaconda3/envs/minio/lib/python3.8/site-packages/urllib3/connectionpool.py:979: InsecureRequestWarning: Unverified HTTPS request is being made to host 'minio.materialsproject.org'. Adding certificate verification is strongly advised. See: https://urllib3.readthedocs.io/en/latest/advanced-usage.html#ssl-warnings\n",
      "  warnings.warn(\n"
     ]
    },
    {
     "name": "stdout",
     "output_type": "stream",
     "text": [
      "runnin on thread <Thread(ThreadPoolExecutor-2_2, started daemon 123145614798848)>\n",
      "runnin on thread <Thread(ThreadPoolExecutor-2_1, started daemon 123145598009344)>\n"
     ]
    },
    {
     "name": "stderr",
     "output_type": "stream",
     "text": [
      "/Users/shreyas/anaconda3/envs/minio/lib/python3.8/site-packages/urllib3/connectionpool.py:979: InsecureRequestWarning: Unverified HTTPS request is being made to host 'minio.materialsproject.org'. Adding certificate verification is strongly advised. See: https://urllib3.readthedocs.io/en/latest/advanced-usage.html#ssl-warnings\n",
      "  warnings.warn(\n",
      "/Users/shreyas/anaconda3/envs/minio/lib/python3.8/site-packages/urllib3/connectionpool.py:979: InsecureRequestWarning: Unverified HTTPS request is being made to host 'minio.materialsproject.org'. Adding certificate verification is strongly advised. See: https://urllib3.readthedocs.io/en/latest/advanced-usage.html#ssl-warnings\n",
      "  warnings.warn(\n"
     ]
    },
    {
     "name": "stdout",
     "output_type": "stream",
     "text": [
      "runnin on thread <Thread(ThreadPoolExecutor-2_2, started daemon 123145614798848)>\n"
     ]
    },
    {
     "name": "stderr",
     "output_type": "stream",
     "text": [
      "/Users/shreyas/anaconda3/envs/minio/lib/python3.8/site-packages/urllib3/connectionpool.py:979: InsecureRequestWarning: Unverified HTTPS request is being made to host 'minio.materialsproject.org'. Adding certificate verification is strongly advised. See: https://urllib3.readthedocs.io/en/latest/advanced-usage.html#ssl-warnings\n",
      "  warnings.warn(\n"
     ]
    },
    {
     "name": "stdout",
     "output_type": "stream",
     "text": [
      "runnin on thread <Thread(ThreadPoolExecutor-2_1, started daemon 123145598009344)>\n"
     ]
    },
    {
     "name": "stderr",
     "output_type": "stream",
     "text": [
      "/Users/shreyas/anaconda3/envs/minio/lib/python3.8/site-packages/urllib3/connectionpool.py:979: InsecureRequestWarning: Unverified HTTPS request is being made to host 'minio.materialsproject.org'. Adding certificate verification is strongly advised. See: https://urllib3.readthedocs.io/en/latest/advanced-usage.html#ssl-warnings\n",
      "  warnings.warn(\n"
     ]
    },
    {
     "name": "stdout",
     "output_type": "stream",
     "text": [
      "runnin on thread <Thread(ThreadPoolExecutor-2_2, started daemon 123145614798848)>\n"
     ]
    },
    {
     "name": "stderr",
     "output_type": "stream",
     "text": [
      "/Users/shreyas/anaconda3/envs/minio/lib/python3.8/site-packages/urllib3/connectionpool.py:979: InsecureRequestWarning: Unverified HTTPS request is being made to host 'minio.materialsproject.org'. Adding certificate verification is strongly advised. See: https://urllib3.readthedocs.io/en/latest/advanced-usage.html#ssl-warnings\n",
      "  warnings.warn(\n"
     ]
    },
    {
     "name": "stdout",
     "output_type": "stream",
     "text": [
      "runnin on thread <Thread(ThreadPoolExecutor-2_2, started daemon 123145614798848)>\n"
     ]
    },
    {
     "name": "stderr",
     "output_type": "stream",
     "text": [
      "/Users/shreyas/anaconda3/envs/minio/lib/python3.8/site-packages/urllib3/connectionpool.py:979: InsecureRequestWarning: Unverified HTTPS request is being made to host 'minio.materialsproject.org'. Adding certificate verification is strongly advised. See: https://urllib3.readthedocs.io/en/latest/advanced-usage.html#ssl-warnings\n",
      "  warnings.warn(\n"
     ]
    },
    {
     "name": "stdout",
     "output_type": "stream",
     "text": [
      "runnin on thread <Thread(ThreadPoolExecutor-2_2, started daemon 123145614798848)>\n"
     ]
    },
    {
     "name": "stderr",
     "output_type": "stream",
     "text": [
      "/Users/shreyas/anaconda3/envs/minio/lib/python3.8/site-packages/urllib3/connectionpool.py:979: InsecureRequestWarning: Unverified HTTPS request is being made to host 'minio.materialsproject.org'. Adding certificate verification is strongly advised. See: https://urllib3.readthedocs.io/en/latest/advanced-usage.html#ssl-warnings\n",
      "  warnings.warn(\n"
     ]
    },
    {
     "name": "stdout",
     "output_type": "stream",
     "text": [
      "runnin on thread <Thread(ThreadPoolExecutor-2_1, started daemon 123145598009344)>\n"
     ]
    },
    {
     "name": "stderr",
     "output_type": "stream",
     "text": [
      "/Users/shreyas/anaconda3/envs/minio/lib/python3.8/site-packages/urllib3/connectionpool.py:979: InsecureRequestWarning: Unverified HTTPS request is being made to host 'minio.materialsproject.org'. Adding certificate verification is strongly advised. See: https://urllib3.readthedocs.io/en/latest/advanced-usage.html#ssl-warnings\n",
      "  warnings.warn(\n"
     ]
    },
    {
     "name": "stdout",
     "output_type": "stream",
     "text": [
      "runnin on thread <Thread(ThreadPoolExecutor-2_1, started daemon 123145598009344)>\n"
     ]
    },
    {
     "name": "stderr",
     "output_type": "stream",
     "text": [
      "/Users/shreyas/anaconda3/envs/minio/lib/python3.8/site-packages/urllib3/connectionpool.py:979: InsecureRequestWarning: Unverified HTTPS request is being made to host 'minio.materialsproject.org'. Adding certificate verification is strongly advised. See: https://urllib3.readthedocs.io/en/latest/advanced-usage.html#ssl-warnings\n",
      "  warnings.warn(\n"
     ]
    },
    {
     "name": "stdout",
     "output_type": "stream",
     "text": [
      "runnin on thread <Thread(ThreadPoolExecutor-2_0, started daemon 123145581219840)>\n"
     ]
    },
    {
     "name": "stderr",
     "output_type": "stream",
     "text": [
      "/Users/shreyas/anaconda3/envs/minio/lib/python3.8/site-packages/urllib3/connectionpool.py:979: InsecureRequestWarning: Unverified HTTPS request is being made to host 'minio.materialsproject.org'. Adding certificate verification is strongly advised. See: https://urllib3.readthedocs.io/en/latest/advanced-usage.html#ssl-warnings\n",
      "  warnings.warn(\n"
     ]
    },
    {
     "name": "stdout",
     "output_type": "stream",
     "text": [
      "runnin on thread <Thread(ThreadPoolExecutor-2_3, started daemon 123145631588352)>\n"
     ]
    },
    {
     "name": "stderr",
     "output_type": "stream",
     "text": [
      "/Users/shreyas/anaconda3/envs/minio/lib/python3.8/site-packages/urllib3/connectionpool.py:979: InsecureRequestWarning: Unverified HTTPS request is being made to host 'minio.materialsproject.org'. Adding certificate verification is strongly advised. See: https://urllib3.readthedocs.io/en/latest/advanced-usage.html#ssl-warnings\n",
      "  warnings.warn(\n"
     ]
    },
    {
     "name": "stdout",
     "output_type": "stream",
     "text": [
      "runnin on thread <Thread(ThreadPoolExecutor-2_3, started daemon 123145631588352)>\n",
      "runnin on thread <Thread(ThreadPoolExecutor-2_0, started daemon 123145581219840)>\n"
     ]
    },
    {
     "name": "stderr",
     "output_type": "stream",
     "text": [
      "/Users/shreyas/anaconda3/envs/minio/lib/python3.8/site-packages/urllib3/connectionpool.py:979: InsecureRequestWarning: Unverified HTTPS request is being made to host 'minio.materialsproject.org'. Adding certificate verification is strongly advised. See: https://urllib3.readthedocs.io/en/latest/advanced-usage.html#ssl-warnings\n",
      "  warnings.warn(\n",
      "/Users/shreyas/anaconda3/envs/minio/lib/python3.8/site-packages/urllib3/connectionpool.py:979: InsecureRequestWarning: Unverified HTTPS request is being made to host 'minio.materialsproject.org'. Adding certificate verification is strongly advised. See: https://urllib3.readthedocs.io/en/latest/advanced-usage.html#ssl-warnings\n",
      "  warnings.warn(\n"
     ]
    },
    {
     "name": "stdout",
     "output_type": "stream",
     "text": [
      "runnin on thread <Thread(ThreadPoolExecutor-2_0, started daemon 123145581219840)>\n"
     ]
    },
    {
     "name": "stderr",
     "output_type": "stream",
     "text": [
      "/Users/shreyas/anaconda3/envs/minio/lib/python3.8/site-packages/urllib3/connectionpool.py:979: InsecureRequestWarning: Unverified HTTPS request is being made to host 'minio.materialsproject.org'. Adding certificate verification is strongly advised. See: https://urllib3.readthedocs.io/en/latest/advanced-usage.html#ssl-warnings\n",
      "  warnings.warn(\n"
     ]
    },
    {
     "name": "stdout",
     "output_type": "stream",
     "text": [
      "runnin on thread <Thread(ThreadPoolExecutor-2_1, started daemon 123145598009344)>\n"
     ]
    },
    {
     "name": "stderr",
     "output_type": "stream",
     "text": [
      "/Users/shreyas/anaconda3/envs/minio/lib/python3.8/site-packages/urllib3/connectionpool.py:979: InsecureRequestWarning: Unverified HTTPS request is being made to host 'minio.materialsproject.org'. Adding certificate verification is strongly advised. See: https://urllib3.readthedocs.io/en/latest/advanced-usage.html#ssl-warnings\n",
      "  warnings.warn(\n"
     ]
    },
    {
     "name": "stdout",
     "output_type": "stream",
     "text": [
      "runnin on thread <Thread(ThreadPoolExecutor-2_0, started daemon 123145581219840)>\n",
      "runnin on thread <Thread(ThreadPoolExecutor-2_3, started daemon 123145631588352)>\n"
     ]
    },
    {
     "name": "stderr",
     "output_type": "stream",
     "text": [
      "/Users/shreyas/anaconda3/envs/minio/lib/python3.8/site-packages/urllib3/connectionpool.py:979: InsecureRequestWarning: Unverified HTTPS request is being made to host 'minio.materialsproject.org'. Adding certificate verification is strongly advised. See: https://urllib3.readthedocs.io/en/latest/advanced-usage.html#ssl-warnings\n",
      "  warnings.warn(\n",
      "/Users/shreyas/anaconda3/envs/minio/lib/python3.8/site-packages/urllib3/connectionpool.py:979: InsecureRequestWarning: Unverified HTTPS request is being made to host 'minio.materialsproject.org'. Adding certificate verification is strongly advised. See: https://urllib3.readthedocs.io/en/latest/advanced-usage.html#ssl-warnings\n",
      "  warnings.warn(\n"
     ]
    },
    {
     "name": "stdout",
     "output_type": "stream",
     "text": [
      "runnin on thread <Thread(ThreadPoolExecutor-2_2, started daemon 123145614798848)>\n"
     ]
    },
    {
     "name": "stderr",
     "output_type": "stream",
     "text": [
      "/Users/shreyas/anaconda3/envs/minio/lib/python3.8/site-packages/urllib3/connectionpool.py:979: InsecureRequestWarning: Unverified HTTPS request is being made to host 'minio.materialsproject.org'. Adding certificate verification is strongly advised. See: https://urllib3.readthedocs.io/en/latest/advanced-usage.html#ssl-warnings\n",
      "  warnings.warn(\n"
     ]
    },
    {
     "name": "stdout",
     "output_type": "stream",
     "text": [
      "runnin on thread <Thread(ThreadPoolExecutor-2_2, started daemon 123145614798848)>\n"
     ]
    },
    {
     "name": "stderr",
     "output_type": "stream",
     "text": [
      "/Users/shreyas/anaconda3/envs/minio/lib/python3.8/site-packages/urllib3/connectionpool.py:979: InsecureRequestWarning: Unverified HTTPS request is being made to host 'minio.materialsproject.org'. Adding certificate verification is strongly advised. See: https://urllib3.readthedocs.io/en/latest/advanced-usage.html#ssl-warnings\n",
      "  warnings.warn(\n"
     ]
    },
    {
     "name": "stdout",
     "output_type": "stream",
     "text": [
      "runnin on thread <Thread(ThreadPoolExecutor-2_2, started daemon 123145614798848)>\n"
     ]
    },
    {
     "name": "stderr",
     "output_type": "stream",
     "text": [
      "/Users/shreyas/anaconda3/envs/minio/lib/python3.8/site-packages/urllib3/connectionpool.py:979: InsecureRequestWarning: Unverified HTTPS request is being made to host 'minio.materialsproject.org'. Adding certificate verification is strongly advised. See: https://urllib3.readthedocs.io/en/latest/advanced-usage.html#ssl-warnings\n",
      "  warnings.warn(\n"
     ]
    },
    {
     "name": "stdout",
     "output_type": "stream",
     "text": [
      "runnin on thread <Thread(ThreadPoolExecutor-2_2, started daemon 123145614798848)>\n"
     ]
    },
    {
     "name": "stderr",
     "output_type": "stream",
     "text": [
      "/Users/shreyas/anaconda3/envs/minio/lib/python3.8/site-packages/urllib3/connectionpool.py:979: InsecureRequestWarning: Unverified HTTPS request is being made to host 'minio.materialsproject.org'. Adding certificate verification is strongly advised. See: https://urllib3.readthedocs.io/en/latest/advanced-usage.html#ssl-warnings\n",
      "  warnings.warn(\n"
     ]
    },
    {
     "name": "stdout",
     "output_type": "stream",
     "text": [
      "runnin on thread <Thread(ThreadPoolExecutor-2_2, started daemon 123145614798848)>\n"
     ]
    },
    {
     "name": "stderr",
     "output_type": "stream",
     "text": [
      "/Users/shreyas/anaconda3/envs/minio/lib/python3.8/site-packages/urllib3/connectionpool.py:979: InsecureRequestWarning: Unverified HTTPS request is being made to host 'minio.materialsproject.org'. Adding certificate verification is strongly advised. See: https://urllib3.readthedocs.io/en/latest/advanced-usage.html#ssl-warnings\n",
      "  warnings.warn(\n"
     ]
    },
    {
     "name": "stdout",
     "output_type": "stream",
     "text": [
      "runnin on thread <Thread(ThreadPoolExecutor-2_1, started daemon 123145598009344)>\n"
     ]
    },
    {
     "name": "stderr",
     "output_type": "stream",
     "text": [
      "/Users/shreyas/anaconda3/envs/minio/lib/python3.8/site-packages/urllib3/connectionpool.py:979: InsecureRequestWarning: Unverified HTTPS request is being made to host 'minio.materialsproject.org'. Adding certificate verification is strongly advised. See: https://urllib3.readthedocs.io/en/latest/advanced-usage.html#ssl-warnings\n",
      "  warnings.warn(\n"
     ]
    },
    {
     "name": "stdout",
     "output_type": "stream",
     "text": [
      "runnin on thread <Thread(ThreadPoolExecutor-2_3, started daemon 123145631588352)>\n"
     ]
    },
    {
     "name": "stderr",
     "output_type": "stream",
     "text": [
      "/Users/shreyas/anaconda3/envs/minio/lib/python3.8/site-packages/urllib3/connectionpool.py:979: InsecureRequestWarning: Unverified HTTPS request is being made to host 'minio.materialsproject.org'. Adding certificate verification is strongly advised. See: https://urllib3.readthedocs.io/en/latest/advanced-usage.html#ssl-warnings\n",
      "  warnings.warn(\n"
     ]
    },
    {
     "name": "stdout",
     "output_type": "stream",
     "text": [
      "runnin on thread <Thread(ThreadPoolExecutor-2_2, started daemon 123145614798848)>\n"
     ]
    },
    {
     "name": "stderr",
     "output_type": "stream",
     "text": [
      "/Users/shreyas/anaconda3/envs/minio/lib/python3.8/site-packages/urllib3/connectionpool.py:979: InsecureRequestWarning: Unverified HTTPS request is being made to host 'minio.materialsproject.org'. Adding certificate verification is strongly advised. See: https://urllib3.readthedocs.io/en/latest/advanced-usage.html#ssl-warnings\n",
      "  warnings.warn(\n"
     ]
    },
    {
     "name": "stdout",
     "output_type": "stream",
     "text": [
      "runnin on thread <Thread(ThreadPoolExecutor-2_2, started daemon 123145614798848)>\n"
     ]
    },
    {
     "name": "stderr",
     "output_type": "stream",
     "text": [
      "/Users/shreyas/anaconda3/envs/minio/lib/python3.8/site-packages/urllib3/connectionpool.py:979: InsecureRequestWarning: Unverified HTTPS request is being made to host 'minio.materialsproject.org'. Adding certificate verification is strongly advised. See: https://urllib3.readthedocs.io/en/latest/advanced-usage.html#ssl-warnings\n",
      "  warnings.warn(\n"
     ]
    },
    {
     "name": "stdout",
     "output_type": "stream",
     "text": [
      "runnin on thread <Thread(ThreadPoolExecutor-2_0, started daemon 123145581219840)>\n"
     ]
    },
    {
     "name": "stderr",
     "output_type": "stream",
     "text": [
      "/Users/shreyas/anaconda3/envs/minio/lib/python3.8/site-packages/urllib3/connectionpool.py:979: InsecureRequestWarning: Unverified HTTPS request is being made to host 'minio.materialsproject.org'. Adding certificate verification is strongly advised. See: https://urllib3.readthedocs.io/en/latest/advanced-usage.html#ssl-warnings\n",
      "  warnings.warn(\n"
     ]
    },
    {
     "name": "stdout",
     "output_type": "stream",
     "text": [
      "runnin on thread <Thread(ThreadPoolExecutor-2_1, started daemon 123145598009344)>\n"
     ]
    },
    {
     "name": "stderr",
     "output_type": "stream",
     "text": [
      "/Users/shreyas/anaconda3/envs/minio/lib/python3.8/site-packages/urllib3/connectionpool.py:979: InsecureRequestWarning: Unverified HTTPS request is being made to host 'minio.materialsproject.org'. Adding certificate verification is strongly advised. See: https://urllib3.readthedocs.io/en/latest/advanced-usage.html#ssl-warnings\n",
      "  warnings.warn(\n"
     ]
    },
    {
     "name": "stdout",
     "output_type": "stream",
     "text": [
      "runnin on thread <Thread(ThreadPoolExecutor-2_3, started daemon 123145631588352)>\n"
     ]
    },
    {
     "name": "stderr",
     "output_type": "stream",
     "text": [
      "/Users/shreyas/anaconda3/envs/minio/lib/python3.8/site-packages/urllib3/connectionpool.py:979: InsecureRequestWarning: Unverified HTTPS request is being made to host 'minio.materialsproject.org'. Adding certificate verification is strongly advised. See: https://urllib3.readthedocs.io/en/latest/advanced-usage.html#ssl-warnings\n",
      "  warnings.warn(\n"
     ]
    },
    {
     "name": "stdout",
     "output_type": "stream",
     "text": [
      "runnin on thread <Thread(ThreadPoolExecutor-2_2, started daemon 123145614798848)>\n"
     ]
    },
    {
     "name": "stderr",
     "output_type": "stream",
     "text": [
      "/Users/shreyas/anaconda3/envs/minio/lib/python3.8/site-packages/urllib3/connectionpool.py:979: InsecureRequestWarning: Unverified HTTPS request is being made to host 'minio.materialsproject.org'. Adding certificate verification is strongly advised. See: https://urllib3.readthedocs.io/en/latest/advanced-usage.html#ssl-warnings\n",
      "  warnings.warn(\n"
     ]
    },
    {
     "name": "stdout",
     "output_type": "stream",
     "text": [
      "runnin on thread <Thread(ThreadPoolExecutor-2_3, started daemon 123145631588352)>\n"
     ]
    },
    {
     "name": "stderr",
     "output_type": "stream",
     "text": [
      "/Users/shreyas/anaconda3/envs/minio/lib/python3.8/site-packages/urllib3/connectionpool.py:979: InsecureRequestWarning: Unverified HTTPS request is being made to host 'minio.materialsproject.org'. Adding certificate verification is strongly advised. See: https://urllib3.readthedocs.io/en/latest/advanced-usage.html#ssl-warnings\n",
      "  warnings.warn(\n"
     ]
    }
   ],
   "source": [
    "thread_local = threading.local()\n",
    "\n",
    "def get_bucket():\n",
    "    if not hasattr(thread_local, \"s3_bucket\"):\n",
    "        print(f'Create_bucket on thread {threading.current_thread()}')\n",
    "        session = Session(profile_name=\"mp_minio_jshen\")\n",
    "        resource = session.resource(\"s3\", endpoint_url=\"http://app.mp-minio.prod-cattle.stable.spin.nersc.org:60013\")\n",
    "        thread_local.s3_bucket = resource.Bucket(\"jshen\")\n",
    "    return thread_local.s3_bucket\n",
    "\n",
    "def write_doc_to_s3(doc, data):\n",
    "    print(f'runnin on thread {threading.current_thread()}')\n",
    "#     s3_bucket = get_bucket()\n",
    "    session = Session(profile_name=\"mp_shreyas\")\n",
    "    resource = session.resource(\"s3\", endpoint_url=\"https://minio.materialsproject.org\", verify=False)\n",
    "    s3_bucket = resource.Bucket(\"shreyas\")\n",
    "\n",
    "    s3_bucket.put_object(\n",
    "            Key=\"test/\" + str(doc), Body=data\n",
    "        )   \n",
    "\n",
    "docs = range(100000)\n",
    "with ThreadPoolExecutor(max_workers=4) as pool:\n",
    "    fs = {\n",
    "        pool.submit(\n",
    "            fn=write_doc_to_s3, doc=itr_doc, data=data\n",
    "        )\n",
    "        for itr_doc in docs\n",
    "    }\n",
    "    fs, _ = wait(fs)\n"
   ]
  },
  {
   "cell_type": "code",
   "execution_count": null,
   "metadata": {},
   "outputs": [],
   "source": []
  }
 ],
 "metadata": {
  "kernelspec": {
   "display_name": "Python 3",
   "language": "python",
   "name": "python3"
  },
  "language_info": {
   "codemirror_mode": {
    "name": "ipython",
    "version": 3
   },
   "file_extension": ".py",
   "mimetype": "text/x-python",
   "name": "python",
   "nbconvert_exporter": "python",
   "pygments_lexer": "ipython3",
   "version": "3.8.3"
  }
 },
 "nbformat": 4,
 "nbformat_minor": 4
}
